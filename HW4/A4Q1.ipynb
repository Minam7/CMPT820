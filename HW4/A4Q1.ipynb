{
 "cells": [
  {
   "cell_type": "markdown",
   "metadata": {},
   "source": [
    "# CMPT 423/820\n",
    "## Assignment 4 Question 1\n",
    "* Seyedeh Mina Mousavifar\n",
    "* 11279515\n",
    "* sem311"
   ]
  },
  {
   "cell_type": "code",
   "execution_count": 123,
   "metadata": {},
   "outputs": [],
   "source": [
    "import pandas as pd\n",
    "\n",
    "iris = pd.read_csv('data/A4Q1/iris.csv', \n",
    "                   header=None, \n",
    "                   names=['SepalLengthCm', 'SepalWidthCm', \n",
    "                          'PetalLengthCm', 'PetalWidthCm', 'Species'])\n",
    "\n",
    "iris_1 = pd.read_csv('data/A4Q1/iris01.csv').drop(['Unnamed: 0'], axis = 1)\n",
    "iris_5 = pd.read_csv('data/A4Q1/iris05.csv').drop(['Unnamed: 0'], axis = 1)\n",
    "iris_10 = pd.read_csv('data/A4Q1/iris10.csv').drop(['Unnamed: 0'], axis = 1)\n",
    "iris_20 = pd.read_csv('data/A4Q1/iris20.csv').drop(['Unnamed: 0'], axis = 1)\n",
    "\n",
    "data_list = [iris, iris_1, iris_5, iris_10, iris_20]\n",
    "class_list = [0,1,5,10,20]"
   ]
  },
  {
   "cell_type": "markdown",
   "metadata": {},
   "source": [
    "### Classifier\n",
    "\n",
    "I choose *Naive Bayes* classifier for this purpose because we have thoroughly investigated the application of NB on the Iris dataset. The following function implements a *Gaussian Naive Bayes* classifier and calculated 10-fold cross-validation on the given dataset."
   ]
  },
  {
   "cell_type": "code",
   "execution_count": 124,
   "metadata": {},
   "outputs": [],
   "source": [
    "from sklearn.naive_bayes import GaussianNB\n",
    "from sklearn.model_selection import cross_val_score\n",
    "\n",
    "KFOLDS = 10\n",
    "\n",
    "def nb_classifier(data_in, label_in):\n",
    "    \"\"\"\n",
    "    :purpose: This function creates an NB classifier and calculates \n",
    "    its cross validated accuracy\n",
    "    :param data_in: dataset\n",
    "    :param label_in: true answers for the dataset\n",
    "    :return: the accuracy of the model with 5 point accuracy\n",
    "    \"\"\"\n",
    "    clf_nb = GaussianNB()\n",
    "    \n",
    "    # fitting the model to the data\n",
    "    clf_nb.fit(data_in, label_in) \n",
    "    \n",
    "    result = cross_val_score(clf_nb, data_in, \n",
    "                    label_in, \n",
    "                    cv=KFOLDS, \n",
    "                    scoring='accuracy')\n",
    "    \n",
    "    return round(result.mean(),5)"
   ]
  },
  {
   "cell_type": "code",
   "execution_count": 125,
   "metadata": {},
   "outputs": [],
   "source": [
    "# creating dataframe for saving results\n",
    "\n",
    "result = pd.DataFrame(columns=['method', 'miss percentage', 'accuracy'])\n",
    "\n",
    "def result_finder(data_list_in, result_in, function, string):\n",
    "    \"\"\"\n",
    "    :purpose: This function operates function on\n",
    "    the data list and return the result dataframe\n",
    "    :param data_list_in: list of datasets\n",
    "    :param result_in: result dataframe\n",
    "    :param function: given function for modelling\n",
    "    :param string: filling method\n",
    "    :return: the result dataframe\n",
    "    \"\"\"\n",
    "    # finding accuracy for each dataset\n",
    "    miss_acc = [string]\n",
    "    for i in range(len(data_list_in)):\n",
    "        miss_acc = [string, class_list[i],function(data_list_in[i])]\n",
    "        result_in = result_in.append(pd.Series(miss_acc, \n",
    "                                      index = result_in.columns), \n",
    "                            ignore_index=True)\n",
    "        \n",
    "    # add to result dataframe\n",
    "    return result_in"
   ]
  },
  {
   "cell_type": "markdown",
   "metadata": {},
   "source": [
    "#### 1. Remove any sample (row) with missing data."
   ]
  },
  {
   "cell_type": "code",
   "execution_count": 126,
   "metadata": {},
   "outputs": [],
   "source": [
    "def omit_row_classifier(data_in):\n",
    "    \"\"\"\n",
    "    :purpose: This function omit rows with NA value and\n",
    "    return the learned guassian classifier accuracy\n",
    "    :param data_in: dataset\n",
    "    :return: the accuracy of the model with 5 point accuracy\n",
    "    \"\"\"\n",
    "    removed_data = data_in.dropna()\n",
    "    \n",
    "    labels = removed_data.values[:, 4]\n",
    "    data = removed_data.values[:, :4]\n",
    "    \n",
    "    return nb_classifier(data, labels)"
   ]
  },
  {
   "cell_type": "code",
   "execution_count": 127,
   "metadata": {},
   "outputs": [],
   "source": [
    "result = result_finder(data_list, result, omit_row_classifier, 'remove')"
   ]
  },
  {
   "cell_type": "markdown",
   "metadata": {},
   "source": [
    "#### 2. Fill in any missing data with a random value. Use the range (min, max) of the feature as the range for your random value."
   ]
  },
  {
   "cell_type": "code",
   "execution_count": 128,
   "metadata": {},
   "outputs": [],
   "source": [
    "from random import uniform\n",
    "\n",
    "def random_row_classifier(data_in):\n",
    "    \"\"\"\n",
    "    :purpose: This function fill rows with NA value\n",
    "    with random value\n",
    "    return the learned guassian classifier accuracy\n",
    "    :param data_in: dataset\n",
    "    :return: the accuracy of the model with 5 point accuracy\n",
    "    \"\"\"\n",
    "    labels = data_in.values[:, 4]\n",
    "    \n",
    "    removed_data = data_in.drop(['Species'], axis = 1)\n",
    "    removed_data = removed_data.transform(\n",
    "        lambda v: v.fillna(round(uniform(np.min(v), np.max(v)), 2)))\n",
    "    \n",
    "    data = removed_data.values\n",
    "    \n",
    "    return nb_classifier(data, labels)"
   ]
  },
  {
   "cell_type": "code",
   "execution_count": 129,
   "metadata": {},
   "outputs": [],
   "source": [
    "result = result_finder(data_list, result, random_row_classifier, 'random')"
   ]
  },
  {
   "cell_type": "markdown",
   "metadata": {},
   "source": [
    "#### 3. Fill in the missing data with the mean value for the feature, regardless of class label."
   ]
  },
  {
   "cell_type": "code",
   "execution_count": 130,
   "metadata": {},
   "outputs": [],
   "source": [
    "def mean_feature_row_classifier(data_in):\n",
    "    \"\"\"\n",
    "    :purpose: This function fill rows with NA value\n",
    "    with mean feature value\n",
    "    return the learned guassian classifier accuracy\n",
    "    :param data_in: dataset\n",
    "    :return: the accuracy of the model with 5 point accuracy\n",
    "    \"\"\"\n",
    "    removed_data = data_in.fillna(data_in.mean())\n",
    "    \n",
    "    labels = removed_data.values[:, 4]\n",
    "    data = removed_data.values[:, :4]\n",
    "    \n",
    "    return nb_classifier(data, labels)"
   ]
  },
  {
   "cell_type": "code",
   "execution_count": 131,
   "metadata": {},
   "outputs": [],
   "source": [
    "result = result_finder(data_list, result, mean_feature_row_classifier, 'mean feature')"
   ]
  },
  {
   "cell_type": "markdown",
   "metadata": {},
   "source": [
    "#### 4. Fill in the missing data with the mean value for the feature, given the class. For example, if the miss- ing value appears on a row with class label L, then use the mean value of that feature, limiting the calculation to rows having label L."
   ]
  },
  {
   "cell_type": "code",
   "execution_count": 132,
   "metadata": {},
   "outputs": [],
   "source": [
    "import numpy as np\n",
    "\n",
    "def mean_group_feature_row_classifier(data_in):\n",
    "    \"\"\"\n",
    "    :purpose: This function fill rows with NA value\n",
    "    with mean feature value\n",
    "    return the learned guassian classifier accuracy\n",
    "    :param data_in: dataset\n",
    "    :return: the accuracy of the model with 5 point accuracy\n",
    "    \"\"\"\n",
    "    labels = data_in.values[:, 4]\n",
    "    \n",
    "    removed_data = data_in.groupby('Species').transform(\n",
    "        lambda grp: grp.fillna(np.mean(grp)))\n",
    "    \n",
    "    data = removed_data.values\n",
    "    \n",
    "    return nb_classifier(data, labels)"
   ]
  },
  {
   "cell_type": "code",
   "execution_count": 133,
   "metadata": {},
   "outputs": [
    {
     "data": {
      "text/html": [
       "<div>\n",
       "<style scoped>\n",
       "    .dataframe tbody tr th:only-of-type {\n",
       "        vertical-align: middle;\n",
       "    }\n",
       "\n",
       "    .dataframe tbody tr th {\n",
       "        vertical-align: top;\n",
       "    }\n",
       "\n",
       "    .dataframe thead th {\n",
       "        text-align: right;\n",
       "    }\n",
       "</style>\n",
       "<table border=\"1\" class=\"dataframe\">\n",
       "  <thead>\n",
       "    <tr style=\"text-align: right;\">\n",
       "      <th></th>\n",
       "      <th>method</th>\n",
       "      <th>miss percentage</th>\n",
       "      <th>accuracy</th>\n",
       "    </tr>\n",
       "  </thead>\n",
       "  <tbody>\n",
       "    <tr>\n",
       "      <th>0</th>\n",
       "      <td>remove</td>\n",
       "      <td>0</td>\n",
       "      <td>0.95333</td>\n",
       "    </tr>\n",
       "    <tr>\n",
       "      <th>1</th>\n",
       "      <td>remove</td>\n",
       "      <td>1</td>\n",
       "      <td>0.95190</td>\n",
       "    </tr>\n",
       "    <tr>\n",
       "      <th>2</th>\n",
       "      <td>remove</td>\n",
       "      <td>5</td>\n",
       "      <td>0.96731</td>\n",
       "    </tr>\n",
       "    <tr>\n",
       "      <th>3</th>\n",
       "      <td>remove</td>\n",
       "      <td>10</td>\n",
       "      <td>0.95000</td>\n",
       "    </tr>\n",
       "    <tr>\n",
       "      <th>4</th>\n",
       "      <td>remove</td>\n",
       "      <td>20</td>\n",
       "      <td>0.95238</td>\n",
       "    </tr>\n",
       "    <tr>\n",
       "      <th>5</th>\n",
       "      <td>random</td>\n",
       "      <td>0</td>\n",
       "      <td>0.95333</td>\n",
       "    </tr>\n",
       "    <tr>\n",
       "      <th>6</th>\n",
       "      <td>random</td>\n",
       "      <td>1</td>\n",
       "      <td>0.94667</td>\n",
       "    </tr>\n",
       "    <tr>\n",
       "      <th>7</th>\n",
       "      <td>random</td>\n",
       "      <td>5</td>\n",
       "      <td>0.93333</td>\n",
       "    </tr>\n",
       "    <tr>\n",
       "      <th>8</th>\n",
       "      <td>random</td>\n",
       "      <td>10</td>\n",
       "      <td>0.92000</td>\n",
       "    </tr>\n",
       "    <tr>\n",
       "      <th>9</th>\n",
       "      <td>random</td>\n",
       "      <td>20</td>\n",
       "      <td>0.84000</td>\n",
       "    </tr>\n",
       "    <tr>\n",
       "      <th>10</th>\n",
       "      <td>mean feature</td>\n",
       "      <td>0</td>\n",
       "      <td>0.95333</td>\n",
       "    </tr>\n",
       "    <tr>\n",
       "      <th>11</th>\n",
       "      <td>mean feature</td>\n",
       "      <td>1</td>\n",
       "      <td>0.94000</td>\n",
       "    </tr>\n",
       "    <tr>\n",
       "      <th>12</th>\n",
       "      <td>mean feature</td>\n",
       "      <td>5</td>\n",
       "      <td>0.94000</td>\n",
       "    </tr>\n",
       "    <tr>\n",
       "      <th>13</th>\n",
       "      <td>mean feature</td>\n",
       "      <td>10</td>\n",
       "      <td>0.94000</td>\n",
       "    </tr>\n",
       "    <tr>\n",
       "      <th>14</th>\n",
       "      <td>mean feature</td>\n",
       "      <td>20</td>\n",
       "      <td>0.89333</td>\n",
       "    </tr>\n",
       "    <tr>\n",
       "      <th>15</th>\n",
       "      <td>label mean feature</td>\n",
       "      <td>0</td>\n",
       "      <td>0.95333</td>\n",
       "    </tr>\n",
       "    <tr>\n",
       "      <th>16</th>\n",
       "      <td>label mean feature</td>\n",
       "      <td>1</td>\n",
       "      <td>0.95333</td>\n",
       "    </tr>\n",
       "    <tr>\n",
       "      <th>17</th>\n",
       "      <td>label mean feature</td>\n",
       "      <td>5</td>\n",
       "      <td>0.97333</td>\n",
       "    </tr>\n",
       "    <tr>\n",
       "      <th>18</th>\n",
       "      <td>label mean feature</td>\n",
       "      <td>10</td>\n",
       "      <td>0.96667</td>\n",
       "    </tr>\n",
       "    <tr>\n",
       "      <th>19</th>\n",
       "      <td>label mean feature</td>\n",
       "      <td>20</td>\n",
       "      <td>0.96667</td>\n",
       "    </tr>\n",
       "  </tbody>\n",
       "</table>\n",
       "</div>"
      ],
      "text/plain": [
       "                method miss percentage  accuracy\n",
       "0               remove               0   0.95333\n",
       "1               remove               1   0.95190\n",
       "2               remove               5   0.96731\n",
       "3               remove              10   0.95000\n",
       "4               remove              20   0.95238\n",
       "5               random               0   0.95333\n",
       "6               random               1   0.94667\n",
       "7               random               5   0.93333\n",
       "8               random              10   0.92000\n",
       "9               random              20   0.84000\n",
       "10        mean feature               0   0.95333\n",
       "11        mean feature               1   0.94000\n",
       "12        mean feature               5   0.94000\n",
       "13        mean feature              10   0.94000\n",
       "14        mean feature              20   0.89333\n",
       "15  label mean feature               0   0.95333\n",
       "16  label mean feature               1   0.95333\n",
       "17  label mean feature               5   0.97333\n",
       "18  label mean feature              10   0.96667\n",
       "19  label mean feature              20   0.96667"
      ]
     },
     "execution_count": 133,
     "metadata": {},
     "output_type": "execute_result"
    }
   ],
   "source": [
    "result = result_finder(data_list, result, mean_group_feature_row_classifier, 'label mean feature')\n",
    "result"
   ]
  },
  {
   "cell_type": "markdown",
   "metadata": {},
   "source": [
    "#### Plotting"
   ]
  },
  {
   "cell_type": "code",
   "execution_count": 147,
   "metadata": {},
   "outputs": [
    {
     "data": {
      "text/plain": [
       "<matplotlib.legend.Legend at 0x7fc30b362198>"
      ]
     },
     "execution_count": 147,
     "metadata": {},
     "output_type": "execute_result"
    },
    {
     "data": {
      "image/png": "[encoded data removed]",
      "text/plain": [
       "<Figure size 864x576 with 1 Axes>"
      ]
     },
     "metadata": {},
     "output_type": "display_data"
    }
   ],
   "source": [
    "import seaborn as sns\n",
    "import matplotlib.pyplot as plt\n",
    "\n",
    "plt.figure(figsize=(12,8))\n",
    "\n",
    "ax = sns.barplot(data = result,\n",
    "            x = 'miss percentage',\n",
    "            y = 'accuracy',\n",
    "            hue = 'method',\n",
    "            palette=\"GnBu_d\")\n",
    "\n",
    "ax.set(ylim=(0, 1.1))\n",
    "\n",
    "ax.legend(bbox_to_anchor= (1.01, 1.01), ncol=1, \n",
    "            borderaxespad=0)"
   ]
  },
  {
   "cell_type": "markdown",
   "metadata": {},
   "source": [
    "As we can see, the accuracy of the model decreases as we delete more data. Furthermore, filling with label-based feature average is more precise than feature-based average, and filling with random value has the lease accuracy. Because filling with average doesn't add any outlier, especially concerning the label that doesn't change the group feature mean and doesn't have an adverse effect on the existing data in the dataset. In contrast, filling with random values might shift the mean of feature, which would impact the original dataset characteristics."
   ]
  }
 ],
 "metadata": {
  "kernelspec": {
   "display_name": "Python 3",
   "language": "python",
   "name": "python3"
  },
  "language_info": {
   "codemirror_mode": {
    "name": "ipython",
    "version": 3
   },
   "file_extension": ".py",
   "mimetype": "text/x-python",
   "name": "python",
   "nbconvert_exporter": "python",
   "pygments_lexer": "ipython3",
   "version": "3.6.6"
  }
 },
 "nbformat": 4,
 "nbformat_minor": 2
}
