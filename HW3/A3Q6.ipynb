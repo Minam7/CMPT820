{
 "cells": [
  {
   "cell_type": "markdown",
   "metadata": {},
   "source": [
    "# CMPT 423/820: Assignment 3  Question 6 \n",
    "* Seyedeh Mina Mousavifar\n",
    "* sem311\n",
    "\n",
    "In this Notebook, you'll use Python to explore Structure Learning in Bayesian Networks.  The basic approach will be:\n",
    "1. Load a categorical dataset (`diamond.csv`) \n",
    "3. Create 2 (related) Bayesian network models, fitting their parameters to the data.\n",
    "4. Compare the 2 structures, using log-likelihood.\n",
    "\n",
    "The data has 5 columns, with the first column being an index.  The first row gives the column names, $A, B, C, D$.  There are too many rows and columns to calculated this data by hand, so we will need to use computational tools."
   ]
  },
  {
   "cell_type": "code",
   "execution_count": 82,
   "metadata": {},
   "outputs": [],
   "source": [
    "import pandas as pd\n",
    "\n",
    "dataframe = pd.read_csv('diamond.csv', index_col=0)"
   ]
  },
  {
   "cell_type": "markdown",
   "metadata": {},
   "source": [
    "## Two Bayesian network structures\n",
    "We will look at two Bayesian network structures out of the very many that are possible for this dataset.\n",
    "2. Model $M_1$.\n",
    "$$ P_1(ABCD) = P(A)P(B|A)P(C|A)P(D|BC) $$\n",
    "2. Model $M_2$.\n",
    "$$ P_2(ABCD) = P(A)P(B|A)P(C|A)P(D|A) $$\n",
    "\n",
    "You will notice that the JPD is factorized, and that there are no graphs given. You can reconstruct the graph by reading the families.  "
   ]
  },
  {
   "cell_type": "markdown",
   "metadata": {},
   "source": [
    "###  Step 1.  Calculate the Conditional Probability tables for both models.\n",
    "In particular:\n",
    "* $P(A)$. (used in both models)\n",
    "* $P(B|A)$. (used in both models)\n",
    "* $P(C|A)$. (used in both models)\n",
    "* $P(D|BC)$. (used only in model $M_1$)\n",
    "* $P(D|A)$. (used only in model $M_2$)\n",
    "\n",
    "Calculate and display these tables neatly.  I recommend a Pandas dataframe for each table.  It will make step 2 easier!"
   ]
  },
  {
   "cell_type": "markdown",
   "metadata": {},
   "source": [
    "#### P(A)"
   ]
  },
  {
   "cell_type": "code",
   "execution_count": 83,
   "metadata": {},
   "outputs": [
    {
     "data": {
      "text/html": [
       "<div>\n",
       "<style scoped>\n",
       "    .dataframe tbody tr th:only-of-type {\n",
       "        vertical-align: middle;\n",
       "    }\n",
       "\n",
       "    .dataframe tbody tr th {\n",
       "        vertical-align: top;\n",
       "    }\n",
       "\n",
       "    .dataframe thead th {\n",
       "        text-align: right;\n",
       "    }\n",
       "</style>\n",
       "<table border=\"1\" class=\"dataframe\">\n",
       "  <thead>\n",
       "    <tr style=\"text-align: right;\">\n",
       "      <th></th>\n",
       "      <th>A</th>\n",
       "      <th>P(A)</th>\n",
       "    </tr>\n",
       "  </thead>\n",
       "  <tbody>\n",
       "    <tr>\n",
       "      <th>0</th>\n",
       "      <td>0</td>\n",
       "      <td>0.808</td>\n",
       "    </tr>\n",
       "    <tr>\n",
       "      <th>1</th>\n",
       "      <td>1</td>\n",
       "      <td>0.192</td>\n",
       "    </tr>\n",
       "  </tbody>\n",
       "</table>\n",
       "</div>"
      ],
      "text/plain": [
       "   A   P(A)\n",
       "0  0  0.808\n",
       "1  1  0.192"
      ]
     },
     "execution_count": 83,
     "metadata": {},
     "output_type": "execute_result"
    }
   ],
   "source": [
    "# count number of 1s and 0s and divide it by total number of records\n",
    "P_A = dataframe.groupby(['A']).size().reset_index(name='P(A)')\n",
    "total = dataframe.shape[0]\n",
    "P_A['P(A)'] = P_A['P(A)']/total\n",
    "\n",
    "P_A"
   ]
  },
  {
   "cell_type": "markdown",
   "metadata": {},
   "source": [
    "#### $P(B|A)$\n",
    "\n",
    "$$P(B|A) = \\frac{P(A,B)}{P(A)}$$"
   ]
  },
  {
   "cell_type": "code",
   "execution_count": 84,
   "metadata": {},
   "outputs": [
    {
     "data": {
      "text/html": [
       "<div>\n",
       "<style scoped>\n",
       "    .dataframe tbody tr th:only-of-type {\n",
       "        vertical-align: middle;\n",
       "    }\n",
       "\n",
       "    .dataframe tbody tr th {\n",
       "        vertical-align: top;\n",
       "    }\n",
       "\n",
       "    .dataframe thead th {\n",
       "        text-align: right;\n",
       "    }\n",
       "</style>\n",
       "<table border=\"1\" class=\"dataframe\">\n",
       "  <thead>\n",
       "    <tr style=\"text-align: right;\">\n",
       "      <th></th>\n",
       "      <th>A</th>\n",
       "      <th>B</th>\n",
       "      <th>P(B|A)</th>\n",
       "    </tr>\n",
       "  </thead>\n",
       "  <tbody>\n",
       "    <tr>\n",
       "      <th>0</th>\n",
       "      <td>0</td>\n",
       "      <td>0</td>\n",
       "      <td>0.830446</td>\n",
       "    </tr>\n",
       "    <tr>\n",
       "      <th>1</th>\n",
       "      <td>0</td>\n",
       "      <td>1</td>\n",
       "      <td>0.169554</td>\n",
       "    </tr>\n",
       "    <tr>\n",
       "      <th>2</th>\n",
       "      <td>1</td>\n",
       "      <td>0</td>\n",
       "      <td>0.203125</td>\n",
       "    </tr>\n",
       "    <tr>\n",
       "      <th>3</th>\n",
       "      <td>1</td>\n",
       "      <td>1</td>\n",
       "      <td>0.796875</td>\n",
       "    </tr>\n",
       "  </tbody>\n",
       "</table>\n",
       "</div>"
      ],
      "text/plain": [
       "   A  B    P(B|A)\n",
       "0  0  0  0.830446\n",
       "1  0  1  0.169554\n",
       "2  1  0  0.203125\n",
       "3  1  1  0.796875"
      ]
     },
     "execution_count": 84,
     "metadata": {},
     "output_type": "execute_result"
    }
   ],
   "source": [
    "# count number of 1s and 0s for (A,B) and divide it by total number of records\n",
    "P_BandA = dataframe.groupby(['A','B']).size().reset_index(name='P(A,B)')\n",
    "P_BandA['P(A,B)'] = P_BandA['P(A,B)']/total\n",
    "\n",
    "# P(A,B)/P(A)\n",
    "P_BgivenA = pd.merge(P_BandA, P_A, how='inner', on=['A'])\n",
    "P_BgivenA['P(B|A)'] = P_BgivenA['P(A,B)']/P_BgivenA['P(A)']\n",
    "# remove unneccesary columns\n",
    "P_BgivenA = P_BgivenA.drop(['P(A,B)','P(A)'],1)\n",
    "P_BgivenA"
   ]
  },
  {
   "cell_type": "markdown",
   "metadata": {},
   "source": [
    "#### $P(C|A)$\n",
    "\n",
    "$$P(C|A) = \\frac{P(A,C)}{P(A)}$$"
   ]
  },
  {
   "cell_type": "code",
   "execution_count": 85,
   "metadata": {},
   "outputs": [
    {
     "data": {
      "text/html": [
       "<div>\n",
       "<style scoped>\n",
       "    .dataframe tbody tr th:only-of-type {\n",
       "        vertical-align: middle;\n",
       "    }\n",
       "\n",
       "    .dataframe tbody tr th {\n",
       "        vertical-align: top;\n",
       "    }\n",
       "\n",
       "    .dataframe thead th {\n",
       "        text-align: right;\n",
       "    }\n",
       "</style>\n",
       "<table border=\"1\" class=\"dataframe\">\n",
       "  <thead>\n",
       "    <tr style=\"text-align: right;\">\n",
       "      <th></th>\n",
       "      <th>A</th>\n",
       "      <th>C</th>\n",
       "      <th>P(C|A)</th>\n",
       "    </tr>\n",
       "  </thead>\n",
       "  <tbody>\n",
       "    <tr>\n",
       "      <th>0</th>\n",
       "      <td>0</td>\n",
       "      <td>0</td>\n",
       "      <td>0.935644</td>\n",
       "    </tr>\n",
       "    <tr>\n",
       "      <th>1</th>\n",
       "      <td>0</td>\n",
       "      <td>1</td>\n",
       "      <td>0.064356</td>\n",
       "    </tr>\n",
       "    <tr>\n",
       "      <th>2</th>\n",
       "      <td>1</td>\n",
       "      <td>0</td>\n",
       "      <td>0.598958</td>\n",
       "    </tr>\n",
       "    <tr>\n",
       "      <th>3</th>\n",
       "      <td>1</td>\n",
       "      <td>1</td>\n",
       "      <td>0.401042</td>\n",
       "    </tr>\n",
       "  </tbody>\n",
       "</table>\n",
       "</div>"
      ],
      "text/plain": [
       "   A  C    P(C|A)\n",
       "0  0  0  0.935644\n",
       "1  0  1  0.064356\n",
       "2  1  0  0.598958\n",
       "3  1  1  0.401042"
      ]
     },
     "execution_count": 85,
     "metadata": {},
     "output_type": "execute_result"
    }
   ],
   "source": [
    "# count number of 1s and 0s for (A,C) and divide it by total number of records\n",
    "P_CandA = dataframe.groupby(['A','C']).size().reset_index(name='P(A,C)')\n",
    "P_CandA['P(A,C)'] = P_CandA['P(A,C)']/total\n",
    "\n",
    "# P(A,C)/P(A)\n",
    "P_CgivenA = pd.merge(P_CandA, P_A, how='inner', on=['A'])\n",
    "P_CgivenA['P(C|A)'] = P_CgivenA['P(A,C)']/P_CgivenA['P(A)']\n",
    "# remove unneccesary columns\n",
    "P_CgivenA = P_CgivenA.drop(['P(A,C)','P(A)'],1)\n",
    "P_CgivenA"
   ]
  },
  {
   "cell_type": "markdown",
   "metadata": {},
   "source": [
    "#### $P(D|B,C)$\n",
    "\n",
    "$$P(D|B,C) = \\frac{P(B,C,D)}{P(B,C)}$$"
   ]
  },
  {
   "cell_type": "code",
   "execution_count": 86,
   "metadata": {},
   "outputs": [
    {
     "data": {
      "text/html": [
       "<div>\n",
       "<style scoped>\n",
       "    .dataframe tbody tr th:only-of-type {\n",
       "        vertical-align: middle;\n",
       "    }\n",
       "\n",
       "    .dataframe tbody tr th {\n",
       "        vertical-align: top;\n",
       "    }\n",
       "\n",
       "    .dataframe thead th {\n",
       "        text-align: right;\n",
       "    }\n",
       "</style>\n",
       "<table border=\"1\" class=\"dataframe\">\n",
       "  <thead>\n",
       "    <tr style=\"text-align: right;\">\n",
       "      <th></th>\n",
       "      <th>B</th>\n",
       "      <th>C</th>\n",
       "      <th>D</th>\n",
       "      <th>P(D|B,C)</th>\n",
       "    </tr>\n",
       "  </thead>\n",
       "  <tbody>\n",
       "    <tr>\n",
       "      <th>0</th>\n",
       "      <td>0</td>\n",
       "      <td>0</td>\n",
       "      <td>0</td>\n",
       "      <td>0.949464</td>\n",
       "    </tr>\n",
       "    <tr>\n",
       "      <th>1</th>\n",
       "      <td>0</td>\n",
       "      <td>0</td>\n",
       "      <td>1</td>\n",
       "      <td>0.050536</td>\n",
       "    </tr>\n",
       "    <tr>\n",
       "      <th>2</th>\n",
       "      <td>0</td>\n",
       "      <td>1</td>\n",
       "      <td>0</td>\n",
       "      <td>0.175439</td>\n",
       "    </tr>\n",
       "    <tr>\n",
       "      <th>3</th>\n",
       "      <td>0</td>\n",
       "      <td>1</td>\n",
       "      <td>1</td>\n",
       "      <td>0.824561</td>\n",
       "    </tr>\n",
       "    <tr>\n",
       "      <th>4</th>\n",
       "      <td>1</td>\n",
       "      <td>0</td>\n",
       "      <td>0</td>\n",
       "      <td>0.307339</td>\n",
       "    </tr>\n",
       "    <tr>\n",
       "      <th>5</th>\n",
       "      <td>1</td>\n",
       "      <td>0</td>\n",
       "      <td>1</td>\n",
       "      <td>0.692661</td>\n",
       "    </tr>\n",
       "    <tr>\n",
       "      <th>6</th>\n",
       "      <td>1</td>\n",
       "      <td>1</td>\n",
       "      <td>0</td>\n",
       "      <td>0.208333</td>\n",
       "    </tr>\n",
       "    <tr>\n",
       "      <th>7</th>\n",
       "      <td>1</td>\n",
       "      <td>1</td>\n",
       "      <td>1</td>\n",
       "      <td>0.791667</td>\n",
       "    </tr>\n",
       "  </tbody>\n",
       "</table>\n",
       "</div>"
      ],
      "text/plain": [
       "   B  C  D  P(D|B,C)\n",
       "0  0  0  0  0.949464\n",
       "1  0  0  1  0.050536\n",
       "2  0  1  0  0.175439\n",
       "3  0  1  1  0.824561\n",
       "4  1  0  0  0.307339\n",
       "5  1  0  1  0.692661\n",
       "6  1  1  0  0.208333\n",
       "7  1  1  1  0.791667"
      ]
     },
     "execution_count": 86,
     "metadata": {},
     "output_type": "execute_result"
    }
   ],
   "source": [
    "# count number of 1s and 0s for (B,C,D) and divide it by total number of records\n",
    "P_BandCandD = dataframe.groupby(['B','C','D']).size().reset_index(name='P(B,C,D)')\n",
    "P_BandCandD['P(B,C,D)'] = P_BandCandD['P(B,C,D)']/total\n",
    "\n",
    "# P(B,C)\n",
    "P_BandC = dataframe.groupby(['B','C']).size().reset_index(name='P(B,C)')\n",
    "P_BandC['P(B,C)'] = P_BandC['P(B,C)']/total\n",
    "\n",
    "# P(B,C,D)/P(B,C)\n",
    "P_DgivenBC = pd.merge(P_BandCandD, P_BandC, how='inner', on=['B','C'])\n",
    "P_DgivenBC['P(D|B,C)'] = P_DgivenBC['P(B,C,D)']/P_DgivenBC['P(B,C)']\n",
    "# remove unneccesary columns\n",
    "P_DgivenBC = P_DgivenBC.drop(['P(B,C,D)','P(B,C)'],1)\n",
    "P_DgivenBC"
   ]
  },
  {
   "cell_type": "markdown",
   "metadata": {},
   "source": [
    "#### $P(D|A)$\n",
    "\n",
    "$$P(D|A) = \\frac{P(A,D)}{P(A)}$$"
   ]
  },
  {
   "cell_type": "code",
   "execution_count": 87,
   "metadata": {},
   "outputs": [
    {
     "data": {
      "text/html": [
       "<div>\n",
       "<style scoped>\n",
       "    .dataframe tbody tr th:only-of-type {\n",
       "        vertical-align: middle;\n",
       "    }\n",
       "\n",
       "    .dataframe tbody tr th {\n",
       "        vertical-align: top;\n",
       "    }\n",
       "\n",
       "    .dataframe thead th {\n",
       "        text-align: right;\n",
       "    }\n",
       "</style>\n",
       "<table border=\"1\" class=\"dataframe\">\n",
       "  <thead>\n",
       "    <tr style=\"text-align: right;\">\n",
       "      <th></th>\n",
       "      <th>A</th>\n",
       "      <th>D</th>\n",
       "      <th>P(D|A)</th>\n",
       "    </tr>\n",
       "  </thead>\n",
       "  <tbody>\n",
       "    <tr>\n",
       "      <th>0</th>\n",
       "      <td>0</td>\n",
       "      <td>0</td>\n",
       "      <td>0.793317</td>\n",
       "    </tr>\n",
       "    <tr>\n",
       "      <th>1</th>\n",
       "      <td>0</td>\n",
       "      <td>1</td>\n",
       "      <td>0.206683</td>\n",
       "    </tr>\n",
       "    <tr>\n",
       "      <th>2</th>\n",
       "      <td>1</td>\n",
       "      <td>0</td>\n",
       "      <td>0.369792</td>\n",
       "    </tr>\n",
       "    <tr>\n",
       "      <th>3</th>\n",
       "      <td>1</td>\n",
       "      <td>1</td>\n",
       "      <td>0.630208</td>\n",
       "    </tr>\n",
       "  </tbody>\n",
       "</table>\n",
       "</div>"
      ],
      "text/plain": [
       "   A  D    P(D|A)\n",
       "0  0  0  0.793317\n",
       "1  0  1  0.206683\n",
       "2  1  0  0.369792\n",
       "3  1  1  0.630208"
      ]
     },
     "execution_count": 87,
     "metadata": {},
     "output_type": "execute_result"
    }
   ],
   "source": [
    "# count number of 1s and 0s for (A,D) and divide it by total number of records\n",
    "P_DandA = dataframe.groupby(['A','D']).size().reset_index(name='P(A,D)')\n",
    "P_DandA['P(A,D)'] = P_DandA['P(A,D)']/total\n",
    "\n",
    "# P(A,D)/P(A)\n",
    "P_DgivenA = pd.merge(P_DandA, P_A, how='inner', on=['A'])\n",
    "P_DgivenA['P(D|A)'] = P_DgivenA['P(A,D)']/P_DgivenA['P(A)']\n",
    "# remove unneccesary columns\n",
    "P_DgivenA = P_DgivenA.drop(['P(A,D)','P(A)'],1)\n",
    "P_DgivenA"
   ]
  },
  {
   "cell_type": "markdown",
   "metadata": {},
   "source": [
    "#### Grading: 5 marks\n",
    "Your notebook calculates the 5 tables correctly, and presents them neatly."
   ]
  },
  {
   "cell_type": "markdown",
   "metadata": {},
   "source": [
    "###  Step 2.  Compare the two models using the likelihood of the data\n",
    "Let $\\mathbf{X}$ represent the dataset.  We want to compare the following two quantities:\n",
    "* $P(\\mathbf{X} | M_1)$ that is, the likelihood of the data using $M_1$.\n",
    "* $P(\\mathbf{X} | M_2)$ that is, the likelihood of the data using the other model.\n",
    "\n",
    "Let $a,b,c,d$ be the values for the variables on one of the rows.  In the first model:\n",
    "$$ P(a,b,c,d|M_1) = P(a)P(b|a)P(c|a)P(d|bc) $$\n",
    "In other words, we are using the tables for $M_1$ in this factorization.  TO finish this calculation off, we have to look up one number from each table, and mutiply them all together.  These are the tables we calculated in Step 1.\n",
    "\n",
    "This is the likelihood of a single row of the data.  To calculate the likelihood of the whole data set, we assume each row is independent:\n",
    "$$ P(\\mathbf{X}|M_1) = \\prod_i P_1(a_i,b_i,c_i,d_i|M_1). $$\n",
    "In other words we multiply the likelihoods of all the rows together to get the likelihood of the dataset using Model $M_1$.\n",
    "\n",
    "Keep in mind this calculation is for the first model, $M_1$; a slightly different calculation is needed for the second model $M_2$, because the family for $D$ is different. \n",
    "\n",
    "When you have calculated the likelihood for the data in **both models**, we can say that the preferred model is the one where the likelihood is highest.\n",
    "\n",
    "Here's the task:  Compare the likelihood of the data in both models, and decide which one fits the data better."
   ]
  },
  {
   "cell_type": "code",
   "execution_count": 88,
   "metadata": {},
   "outputs": [],
   "source": [
    "# creating full data for each combination of a,b,c,d\n",
    "info = pd.merge(P_BgivenA, P_A, how='inner', on=['A'])\n",
    "info = pd.merge(info, P_CgivenA, how='inner', on=['A'])\n",
    "info = pd.merge(info, P_DgivenA, how='inner', on=['A'])\n",
    "info = pd.merge(info, P_DgivenBC, how='inner', on=['B','C','D'])\n",
    "\n",
    "info = info[['A', 'B', 'C', 'D', \n",
    "             'P(A)', 'P(B|A)', 'P(C|A)', 'P(D|A)', 'P(D|B,C)']]"
   ]
  },
  {
   "cell_type": "markdown",
   "metadata": {},
   "source": [
    "#### M1\n",
    "\n",
    "$$ P(a,b,c,d|M_1) = P(a)P(b|a)P(c|a)P(d|bc) $$"
   ]
  },
  {
   "cell_type": "code",
   "execution_count": 89,
   "metadata": {},
   "outputs": [],
   "source": [
    "import math\n",
    "import numpy as np\n",
    "\n",
    "# P M1\n",
    "info['P(a,b,c,d|M_1)'] = info['P(A)']*info['P(B|A)']*info['P(C|A)']*info['P(D|B,C)']\n",
    "\n",
    "# log for prevention of underflow for small numbers in likelihood\n",
    "info['M1-log'] = np.log2(info['P(a,b,c,d|M_1)'])"
   ]
  },
  {
   "cell_type": "markdown",
   "metadata": {},
   "source": [
    "#### M2\n",
    "\n",
    "$$ P(a,b,c,d|M_2) = P(a)P(b|a)P(c|a)P(d|a) $$"
   ]
  },
  {
   "cell_type": "code",
   "execution_count": 90,
   "metadata": {},
   "outputs": [],
   "source": [
    "# P M2\n",
    "info['P(a,b,c,d|M_2)'] = info['P(A)']*info['P(B|A)']*info['P(C|A)']*info['P(D|A)']\n",
    "\n",
    "# log for prevention of underflow for small numbers in likelihood\n",
    "info['M2-log'] = np.log2(info['P(a,b,c,d|M_2)'])"
   ]
  },
  {
   "cell_type": "markdown",
   "metadata": {},
   "source": [
    "#### Likelihood\n",
    "\n",
    "$$ P(\\mathbf{X}|M) = \\prod_i P(a_i,b_i,c_i,d_i|M) $$\n",
    "$$ P(\\mathbf{X}|M) = \\sum_i P(a_i,b_i,c_i,d_i|M) $$"
   ]
  },
  {
   "cell_type": "code",
   "execution_count": 92,
   "metadata": {},
   "outputs": [],
   "source": [
    "# object for saving data\n",
    "result = {'M1':{}, 'M2':{}}\n",
    "\n",
    "# M1\n",
    "result['M1']['likelihood'] = np.prod(info['P(a,b,c,d|M_1)'])\n",
    "result['M1']['log-likelihood'] = info['M1-log'].sum()\n",
    "\n",
    "# M2\n",
    "result['M2']['likelihood'] = np.prod(info['P(a,b,c,d|M_2)'])\n",
    "result['M2']['log-likelihood'] = info['M2-log'].sum()"
   ]
  },
  {
   "cell_type": "code",
   "execution_count": 93,
   "metadata": {},
   "outputs": [
    {
     "name": "stdout",
     "output_type": "stream",
     "text": [
      "\u001b[1mLikelihood\u001b[0m\n",
      "Model                     likelihood                log likelihood           \n",
      "M1                        2.353342834066061e-28     -91.77927514972284       \n",
      "M2                        8.447394304170701e-27     -86.61355216780413       \n"
     ]
    }
   ],
   "source": [
    "# printing result in tabular format\n",
    "print('\\033[1m' + 'Likelihood' + '\\033[0m')\n",
    "print('{:<25} {:<25} {:<25}'.format('Model',\n",
    "                            'likelihood',\n",
    "                            'log likelihood'))\n",
    "\n",
    "for model, item in result.items():\n",
    "    print(\"{:<25} {:<25} {:<25}\".format(model, \n",
    "                                        item['likelihood'], \n",
    "                                        item['log-likelihood']))"
   ]
  },
  {
   "cell_type": "markdown",
   "metadata": {},
   "source": [
    "#### Grading: 4 marks \n",
    "Your calculations are correct.\n"
   ]
  },
  {
   "cell_type": "markdown",
   "metadata": {},
   "source": [
    "### Conclusion: \n",
    "Which of the two model is the better fit for the data?\n"
   ]
  },
  {
   "cell_type": "markdown",
   "metadata": {},
   "source": [
    "> The model with a higher likelihood better represents the data. M2 has higher likelihood and log-likelihood than M1, so it is the better fit for the data."
   ]
  },
  {
   "cell_type": "markdown",
   "metadata": {},
   "source": [
    "#### Grading: 1 mark \n",
    "Your conclusion is appropriate."
   ]
  }
 ],
 "metadata": {
  "kernelspec": {
   "display_name": "Python 3",
   "language": "python",
   "name": "python3"
  },
  "language_info": {
   "codemirror_mode": {
    "name": "ipython",
    "version": 3
   },
   "file_extension": ".py",
   "mimetype": "text/x-python",
   "name": "python",
   "nbconvert_exporter": "python",
   "pygments_lexer": "ipython3",
   "version": "3.6.6"
  }
 },
 "nbformat": 4,
 "nbformat_minor": 2
}
