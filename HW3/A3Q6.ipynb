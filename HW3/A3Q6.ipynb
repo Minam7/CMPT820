{
 "cells": [
  {
   "cell_type": "markdown",
   "metadata": {},
   "source": [
    "# CMPT 423/820: Assignment 3  Question 6 \n",
    "* Your name\n",
    "* Your NSID\n",
    "\n",
    "In this Notebook, you'll use Python to explore Structure Learning in Bayesian Networks.  The basic approach will be:\n",
    "1. Load a categorical dataset (`diamond.csv`) \n",
    "3. Create 2 (related) Bayesian network models, fitting their parameters to the data.\n",
    "4. Compare the 2 structures, using log-likelihood.\n",
    "\n",
    "The data has 5 columns, with the first column being an index.  The first row gives the column names, $A, B, C, D$.  There are too many rows and columns to calculated this data by hand, so we will need to use computational tools."
   ]
  },
  {
   "cell_type": "code",
   "execution_count": 8,
   "metadata": {},
   "outputs": [],
   "source": [
    "import pandas as pd\n",
    "\n",
    "dataframe = pd.read_csv('diamond.csv', index_col=0)"
   ]
  },
  {
   "cell_type": "markdown",
   "metadata": {},
   "source": [
    "## Two Bayesian network structures\n",
    "We will look at two Bayesian network structures out of the very many that are possible for this dataset.\n",
    "2. Model $M_1$.\n",
    "$$ P_1(ABCD) = P(A)P(B|A)P(C|A)P(D|BC) $$\n",
    "2. Model $M_2$.\n",
    "$$ P_2(ABCD) = P(A)P(B|A)P(C|A)P(D|A) $$\n",
    "\n",
    "You will notice that the JPD is factorized, and that there are no graphs given. You can reconstruct the graph by reading the families.  "
   ]
  },
  {
   "cell_type": "markdown",
   "metadata": {},
   "source": [
    "###  Step 1.  Calculate the Conditional Probability tables for both models.\n",
    "In particular:\n",
    "* $P(A)$. (used in both models)\n",
    "* $P(B|A)$. (used in both models)\n",
    "* $P(C|A)$. (used in both models)\n",
    "* $P(D|BC)$. (used only in model $M_1$)\n",
    "* $P(D|A)$. (used only in model $M_2$)\n",
    "\n",
    "Calculate and display these tables neatly.  I recommend a Pandas dataframe for each table.  It will make step 2 easier!"
   ]
  },
  {
   "cell_type": "code",
   "execution_count": 5,
   "metadata": {},
   "outputs": [],
   "source": [
    "# Your work here"
   ]
  },
  {
   "cell_type": "markdown",
   "metadata": {},
   "source": [
    "#### Grading: 5 marks\n",
    "Your notebook calculates the 5 tables correctly, and presents them neatly."
   ]
  },
  {
   "cell_type": "markdown",
   "metadata": {},
   "source": [
    "###  Step 2.  Compare the two models using the likelihood of the data\n",
    "Let $\\mathbf{X}$ represent the dataset.  We want to compare the following two quantities:\n",
    "* $P(\\mathbf{X} | M_1)$ that is, the likelihood of the data using $M_1$.\n",
    "* $P(\\mathbf{X} | M_2)$ that is, the likelihood of the data using the other model.\n",
    "\n",
    "Let $a,b,c,d$ be the values for the variables on one of the rows.  In the first model:\n",
    "$$ P(a,b,c,d|M_1) = P(a)P(b|a)P(c|a)P(d|bc) $$\n",
    "In other words, we are using the tables for $M_1$ in this factorization.  TO finish this calculation off, we have to look up one number from each table, and mutiply them all together.  These are the tables we calculated in Step 1.\n",
    "\n",
    "This is the likelihood of a single row of the data.  To calculate the likelihood of the whole data set, we assume each row is independent:\n",
    "$$ P(\\mathbf{X}|M_1) = \\prod_i P_1(a_i,b_i,c_i,d_i|M_1). $$\n",
    "In other words we multiply the likelihoods of all the rows together to get the likelihood of the dataset using Model $M_1$.\n",
    "\n",
    "Keep in mind this calculation is for the first model, $M_1$; a slightly different calculation is needed for the second model $M_2$, because the family for $D$ is different. \n",
    "\n",
    "When you have calculated the likelihood for the data in **both models**, we can say that the preferred model is the one where the likelihood is highest.\n",
    "\n",
    "Here's the task:  Compare the likelihood of the data in both models, and decide which one fits the data better."
   ]
  },
  {
   "cell_type": "code",
   "execution_count": 9,
   "metadata": {},
   "outputs": [],
   "source": [
    "# Your work here"
   ]
  },
  {
   "cell_type": "markdown",
   "metadata": {},
   "source": [
    "#### Grading: 4 marks \n",
    "Your calculations are correct.\n"
   ]
  },
  {
   "cell_type": "markdown",
   "metadata": {},
   "source": [
    "### Conclusion: \n",
    "Which of the two model is the better fit for the data?\n"
   ]
  },
  {
   "cell_type": "markdown",
   "metadata": {},
   "source": [
    "(your conclusions here)\n"
   ]
  },
  {
   "cell_type": "markdown",
   "metadata": {},
   "source": [
    "#### Grading: 1 mark \n",
    "Your conclusion is appropriate."
   ]
  }
 ],
 "metadata": {
  "kernelspec": {
   "display_name": "Python 3",
   "language": "python",
   "name": "python3"
  },
  "language_info": {
   "codemirror_mode": {
    "name": "ipython",
    "version": 3
   },
   "file_extension": ".py",
   "mimetype": "text/x-python",
   "name": "python",
   "nbconvert_exporter": "python",
   "pygments_lexer": "ipython3",
   "version": "3.7.3"
  }
 },
 "nbformat": 4,
 "nbformat_minor": 2
}
