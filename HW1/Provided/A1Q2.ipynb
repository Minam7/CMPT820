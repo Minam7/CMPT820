{
 "cells": [
  {
   "cell_type": "markdown",
   "metadata": {},
   "source": [
    "# CMPT 423/820 \n",
    "## Assignment 1 Question 2\n",
    "* Seyedeh Mina Mousavifar\n",
    "* 11279515\n",
    "* sem311"
   ]
  },
  {
   "cell_type": "markdown",
   "metadata": {},
   "source": [
    "## Python Basics\n",
    "\n",
    "* Data: integers, floating point, strings, Boolean, None\n",
    "  * All data in Python is stored as objects, even numeric values\n",
    "  * integers in Python are not limited in size\n",
    "  * floating point values in Python are standard IEEE floating point values, and are limited in range.\n",
    "  * These basic data types are immutable\n",
    "  * type conversion functions `int() float() str() `\n",
    "* Variables and expressions:\n",
    "  * Every variable in Python stores a reference to an object\n",
    "  * assignment statements\n",
    "  * Arithmetic: `+ * - / // %` \n",
    "  * Relational `== < > <= >= !=`\n",
    "  * Boolean: `and or not`\n",
    "* Sequential data structures: lists, tuples\n",
    "  * Lists are mutable, tuples are immutable\n",
    "  * Integer indexing for lists and tuples\n",
    "  * Slicing lists creates new list object\n",
    "* Dictionaries (associational)\n",
    "  * Mutable\n",
    "  * indexable by integers, strings, or tuples containing immutable data\n",
    "* Python Control Flow\n",
    "  * if-statements\n",
    "  * for loops\n",
    "  * while loops\n",
    "  * function definitions\n",
    "    * Since all variables store references, all Python parameters are pass-as-reference\n",
    "    * By default, a function returns the value `None`.  \n",
    "* Console output\n",
    "  * `print()`\n",
    "  * String method `format()`"
   ]
  },
  {
   "cell_type": "markdown",
   "metadata": {},
   "source": [
    "# Tasks"
   ]
  },
  {
   "cell_type": "markdown",
   "metadata": {},
   "source": [
    "### Task 1.  \n",
    "Write Python code to calculate Fibonacci numbers.  Use this code to produce the following  output (\"console output\" using the function `print()`):\n",
    "<pre>\n",
    "The 111 th Fibonacci number is 70492524767089125814114\n",
    "As a float, this number is 7.049252476708912e+22\n",
    "The integer difference between the two values is: 1634146\n",
    "</pre>\n",
    "For the sake of this question, assume that the Fibonacci sequence starts with 0, 1, 1, 2, ... Also assume that the 0th Fibonacci number is 0, and the 3rd fibonacci number is 2.\n",
    "\n",
    "Notice that the difference is non-zero.  The integer value is exact.  The floating point value is inexact due to truncation)."
   ]
  },
  {
   "cell_type": "code",
   "execution_count": 11,
   "metadata": {},
   "outputs": [
    {
     "name": "stdout",
     "output_type": "stream",
     "text": [
      "The 111 th Fibonacci number is 70492524767089125814114\n",
      "As a float, this number is 7.049252476708912e+22\n",
      "The integer difference between the two values is: 1634146\n"
     ]
    }
   ],
   "source": [
    "from decimal import Decimal\n",
    "\n",
    "def fibonacci(number):\n",
    "    \"\"\"\n",
    "    :purpose: This function calculates nth Fibonacci number, which is Fn = Fn-1 + Fn-2\n",
    "    :param number: nth Fibonacci number to be calculated\n",
    "    :return: value of nth number in Fibonacci sequence\n",
    "    \"\"\"\n",
    "    nth_number = 1\n",
    "    previous_number = 0\n",
    "    if number == 0:\n",
    "        return 0\n",
    "    elif number == 1:\n",
    "        return 1\n",
    "    else:\n",
    "        for j in range(2, number + 1):\n",
    "        \n",
    "            temp = previous_number + nth_number\n",
    "            previous_number = nth_number\n",
    "            nth_number = temp\n",
    "        \n",
    "        return nth_number\n",
    "\n",
    "n = 111\n",
    "fibonacci_number = fibonacci(n)\n",
    "\n",
    "# print function uses str() implicitly\n",
    "print('The', n, 'th Fibonacci number is', fibonacci_number)\n",
    "\n",
    "float_number = float(fibonacci_number)\n",
    "print('As a float, this number is', float_number)\n",
    "\n",
    "difference =  fibonacci_number - int(float_number)\n",
    "print('The integer difference between the two values is:', difference)"
   ]
  },
  {
   "cell_type": "markdown",
   "metadata": {},
   "source": [
    "### Task 2.  Lists and slicing\n",
    "Write Python to \n",
    "1. Store the first 50 Fibonacci numbers in a list.  \n",
    "2. Use this list, and slicing, to construct a list containing only  30th-34th Fibonacci numbers. \n",
    "3. Display the sublist\n",
    "4. Using list indexing, modify the sublist making the first entry `12345`\n",
    "5. Display the sublist again\n",
    "6. Display the corresponding sequence from the original list.\n",
    "\n",
    "Here's an example of the output:\n",
    "<pre>\n",
    "The sublist of Fibonacci numbers (before): [832040, 1346269, 2178309, 3524578, 5702887]\n",
    "The sublist of Fibonacci numbers (after): [12345, 1346269, 2178309, 3524578, 5702887]\n",
    "The original sequence of Fibonacci numbers: [832040, 1346269, 2178309, 3524578, 5702887]\n",
    "</pre>\n",
    "Slicing is really really useful.  This requirement is a very simple use of the concept.  \n",
    "\n",
    "Note: The Numpy module has a different, but similar operation, called a view.  Python slicing creates a new object, always. Numpy views are not new objects."
   ]
  },
  {
   "cell_type": "code",
   "execution_count": 12,
   "metadata": {},
   "outputs": [
    {
     "name": "stdout",
     "output_type": "stream",
     "text": [
      "The sublist of Fibonacci numbers (before): [832040, 1346269, 2178309, 3524578, 5702887]\n",
      "The sublist of Fibonacci numbers (after): [12345, 1346269, 2178309, 3524578, 5702887]\n",
      "The original sequence of Fibonacci numbers: [832040, 1346269, 2178309, 3524578, 5702887]\n"
     ]
    }
   ],
   "source": [
    "fibonacci_sequence = [fibonacci(i) for i in range(50)]\n",
    "\n",
    "fibonacci_sublist = fibonacci_sequence[30:35] #to preserve 30-34 in the list\n",
    "\n",
    "print('The sublist of Fibonacci numbers (before):', fibonacci_sublist)\n",
    "\n",
    "fibonacci_sublist[0] = 12345\n",
    "print('The sublist of Fibonacci numbers (after):', fibonacci_sublist)\n",
    " \n",
    "print('The original sequence of Fibonacci numbers:', fibonacci_sequence[30:35])"
   ]
  },
  {
   "cell_type": "markdown",
   "metadata": {},
   "source": [
    "### What to hand in\n",
    "Your version of this notebook named A1Q2.pdf, containing completed work above, and your name and student number at the top."
   ]
  },
  {
   "cell_type": "markdown",
   "metadata": {},
   "source": [
    "### Evaluation:\n",
    "* 2 marks: Your code cell for Task 1 uses Python (only -- no imported modules) to show the given output. \n",
    "* 2 marks: Your code cell for Task 2 uses Python (only -- no imported modules) to show the given output"
   ]
  }
 ],
 "metadata": {
  "kernelspec": {
   "display_name": "Python 3",
   "language": "python",
   "name": "python3"
  },
  "language_info": {
   "codemirror_mode": {
    "name": "ipython",
    "version": 3
   },
   "file_extension": ".py",
   "mimetype": "text/x-python",
   "name": "python",
   "nbconvert_exporter": "python",
   "pygments_lexer": "ipython3",
   "version": "3.7.4"
  }
 },
 "nbformat": 4,
 "nbformat_minor": 2
}
