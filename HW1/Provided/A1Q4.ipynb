{
 "cells": [
  {
   "cell_type": "markdown",
   "metadata": {},
   "source": [
    "# CMPT 423/820 \n",
    "## Assignment 1 Question 4\n",
    "* Seyedeh Mina Mousavifar\n",
    "* 11279515\n",
    "* sem311"
   ]
  },
  {
   "cell_type": "markdown",
   "metadata": {},
   "source": [
    "In this question, we'll do a little more work with Numpy, and we'll combine this with a bit of review from Lecture 02 -- Probability.  Numpy can do the calculations here, but you the programmer have to manage really tiny details about the NDArray data structure.  It's not ideal for convenient work with discrete probability distributions, but it is a little instructive on the use of Numpy."
   ]
  },
  {
   "cell_type": "markdown",
   "metadata": {},
   "source": [
    "### Tasks\n",
    "On Slide 18 of Lecture 02, there is a Joint Probability Distribution on 2 random variables A and W.  This JPD will be the basis for some Numpy calculations.  In parts 4 and following, below, the exercises create a new JPD $P_2(AW); this is not supposed to be equal to the JPD from part 1."
   ]
  },
  {
   "cell_type": "markdown",
   "metadata": {},
   "source": [
    "1. Define a NDArray to store the numeric values of the JPD.  "
   ]
  },
  {
   "cell_type": "code",
   "execution_count": 10,
   "metadata": {},
   "outputs": [
    {
     "name": "stdout",
     "output_type": "stream",
     "text": [
      "P_1(AW):\n",
      " [[0.144 0.02  0.016 0.02 ]\n",
      " [0.576 0.08  0.064 0.08 ]]\n"
     ]
    }
   ],
   "source": [
    "import numpy as np\n",
    "\n",
    "# based on Lecture 02, page 16\n",
    "jpd = np.array([[0.144, 0.02, 0.016, 0.02], [0.576, 0.08, 0.064, 0.08]])\n",
    "print('P_1(AW):\\n', jpd)"
   ]
  },
  {
   "cell_type": "markdown",
   "metadata": {},
   "source": [
    "2. Using the Numpy method `sum()`, do the following:\n",
    "   1. Display the sum of all the values in the JPD.  It should be (very close to) 1.\n",
    "   2. Display the marginal $P(W)$ as an NDArray obtained from the JPD using `sum()`. \n",
    "   3. Display the marginal $P(A)$ as an NDArray obtained from the JPD using `sum()`. "
   ]
  },
  {
   "cell_type": "code",
   "execution_count": 11,
   "metadata": {},
   "outputs": [
    {
     "name": "stdout",
     "output_type": "stream",
     "text": [
      "Sum of all the values in JPD= 0.9999999999999999\n",
      "Marginal P(W)= [0.72 0.1  0.08 0.1 ]\n",
      "Marginal P(A)= [0.2 0.8]\n"
     ]
    }
   ],
   "source": [
    "# A: sum of all the values in JPD\n",
    "print('Sum of all the values in JPD=', np.sum(jpd))\n",
    "\n",
    "# B: marginal P(W) - vertical sum of each column\n",
    "pw = np.sum(jpd, axis = 0)\n",
    "print('Marginal P(W)=', pw)\n",
    "\n",
    "# C: marginal P(A) - horizontal sum of each row\n",
    "pa = np.sum(jpd, axis = 1)\n",
    "print('Marginal P(A)=', pa)"
   ]
  },
  {
   "cell_type": "markdown",
   "metadata": {},
   "source": [
    "3. Using Numpy methods, show that A and W are in fact independent, that is $P_1(AW) = P(A)P(W)$"
   ]
  },
  {
   "cell_type": "code",
   "execution_count": 12,
   "metadata": {},
   "outputs": [
    {
     "name": "stdout",
     "output_type": "stream",
     "text": [
      "The product of P(A)P(B) is: \n",
      " [[0.144 0.02  0.016 0.02 ]\n",
      " [0.576 0.08  0.064 0.08 ]]\n",
      "\n",
      "Does JPD P(AW) equals to P(A)P(W)? True\n"
     ]
    }
   ],
   "source": [
    "# matrix multiplication of P(A)*P(W)\n",
    "product_aw_1 = np.matmul(pa.reshape(2,1), pw.reshape(1,4))\n",
    "print('The product of P(A)P(B) is: \\n', product_aw_1)\n",
    "\n",
    "print()\n",
    "\n",
    "# checking equality to original JPD\n",
    "print('Does JPD P(AW) equals to P(A)P(W)?', np.array_equal(jpd, product_aw_1))"
   ]
  },
  {
   "cell_type": "markdown",
   "metadata": {},
   "source": [
    "4. Define a NDArray for a new conditional $P(A|W) \\not = P(A)$.  Choose your own values here. "
   ]
  },
  {
   "cell_type": "code",
   "execution_count": 13,
   "metadata": {},
   "outputs": [
    {
     "name": "stdout",
     "output_type": "stream",
     "text": [
      "Sum of all the values in my JPD= 0.9999999999999999\n",
      "Does P1(AW) equals to P(A)P(W) for my JPD? False\n",
      "Does P1(A|W) equals to P(A) for my JPD? False\n"
     ]
    }
   ],
   "source": [
    "# considering keeping old marginal on W\n",
    "my_jpd = np.array([[0.15, 0.03, 0.02, 0.05], [0.57, 0.07, 0.06, 0.05]])\n",
    "\n",
    "# checking my array to sum to 1\n",
    "print('Sum of all the values in my JPD=', np.sum(my_jpd))\n",
    "\n",
    "# checking P(A|W) != P(A) by P(AW)!=P(A)P(W)\n",
    "my_pw = np.sum(my_jpd, axis = 0)\n",
    "my_pa = np.sum(my_jpd, axis = 1)\n",
    "my_product_aw = np.matmul(my_pa.reshape(2,1), my_pw.reshape(1,4))\n",
    "print('Does P1(AW) equals to P(A)P(W) for my JPD?', np.array_equal(my_jpd, my_product_aw))\n",
    "\n",
    "# checking P(A|W) != P(A) by comparing P(A|W) and P(A)\n",
    "\n",
    "# P(A|W) by dividing each row of my_jpd to P(W) value columnwise\n",
    "pw = pw.reshape(1,4)\n",
    "paw_conditional = np.true_divide(my_jpd, pw)\n",
    "\n",
    "# calculating whether P(A|W)-P(A) is all zeros\n",
    "independence_difference = (paw_conditional - pa.reshape(2,1))\n",
    "\n",
    "print('Does P1(A|W) equals to P(A) for my JPD?', np.count_nonzero(independence_difference) == 0)"
   ]
  },
  {
   "cell_type": "markdown",
   "metadata": {},
   "source": [
    "5. Using Numpy methods, calculate the new JPD $P_2(AW) = P(A|W)P(W)$ (keep the old marginal on W).  Note: we'll use this new JPD in some of the parts that follow."
   ]
  },
  {
   "cell_type": "code",
   "execution_count": 14,
   "metadata": {},
   "outputs": [
    {
     "name": "stdout",
     "output_type": "stream",
     "text": [
      "The new JPD P2(AW):\n",
      " [[0.15 0.03 0.02 0.05]\n",
      " [0.57 0.07 0.06 0.05]]\n",
      "\n",
      "Does JPD P2(AW) equals to P(A|W)P(W)? True\n"
     ]
    }
   ],
   "source": [
    "# P(A|W) by dividing each row of my_jpd to P(W) value columnwise\n",
    "pw = pw.reshape(1,4)\n",
    "paw_conditional = np.true_divide(my_jpd, pw)\n",
    "\n",
    "\n",
    "# P2(AW) = P(A|W)P(W)\n",
    "p2_aw = paw_conditional * pw\n",
    "print('The new JPD P2(AW):\\n', p2_aw)\n",
    "\n",
    "print()\n",
    "\n",
    "# checking equality to original JPD\n",
    "print('Does JPD P2(AW) equals to P(A|W)P(W)?', np.array_equal(my_jpd, p2_aw))"
   ]
  },
  {
   "cell_type": "markdown",
   "metadata": {},
   "source": [
    "6. Using Numpy methods, calculate the conditional $P(W|A)$ from the new JPD."
   ]
  },
  {
   "cell_type": "code",
   "execution_count": 15,
   "metadata": {},
   "outputs": [
    {
     "name": "stdout",
     "output_type": "stream",
     "text": [
      "from P2(AW), P(W|A):\n",
      " [[0.6        0.12       0.08       0.2       ]\n",
      " [0.76       0.09333333 0.08       0.06666667]]\n"
     ]
    }
   ],
   "source": [
    "# P(W|A) from my JPD by dividing each column of my_jpd to P(W) value rowwise\n",
    "my_pa = my_pa.reshape(2,1)\n",
    "pwa_conditional = np.true_divide(my_jpd, my_pa)\n",
    "\n",
    "print('from P2(AW), P(W|A):\\n', pwa_conditional)"
   ]
  },
  {
   "cell_type": "markdown",
   "metadata": {},
   "source": [
    "8. Using Numpy methods, show that Bayes' Rule is true (for the new JPD):\n",
    "\n",
    "   $$ P(W|A) = \\frac{P(A|W)P(W)}{P(A)} $$"
   ]
  },
  {
   "cell_type": "code",
   "execution_count": 16,
   "metadata": {},
   "outputs": [
    {
     "name": "stdout",
     "output_type": "stream",
     "text": [
      "Is Bayes Rule true? True\n"
     ]
    }
   ],
   "source": [
    "# P(A|W) by dividing each row of my_jpd to P(W) value columnwise\n",
    "paw_conditional = np.true_divide(my_jpd, pw)\n",
    "\n",
    "# calculating Bayes' rule right side\n",
    "bayes_right = (paw_conditional * pw)/my_pa\n",
    "\n",
    "print('Is Bayes Rule true?', np.array_equal(pwa_conditional, bayes_right))"
   ]
  },
  {
   "cell_type": "markdown",
   "metadata": {},
   "source": [
    "9. Produce a Boolean NDArray showing which values of the new JPD are greater than the old JPD $P_1(AW)$."
   ]
  },
  {
   "cell_type": "code",
   "execution_count": 17,
   "metadata": {},
   "outputs": [
    {
     "name": "stdout",
     "output_type": "stream",
     "text": [
      "Boolean Array for difference between new JPD and old JPD:\n",
      " [[False False False False]\n",
      " [ True  True  True  True]]\n"
     ]
    }
   ],
   "source": [
    "boolean = np.greater(jpd, p2_aw)\n",
    "\n",
    "print('Boolean Array for difference between new JPD and old JPD:\\n',boolean)"
   ]
  },
  {
   "cell_type": "markdown",
   "metadata": {},
   "source": [
    "10. Using Numpy methods, calculate the number of values in the new JPD that are smaller than the old JPD $P_1(AW)$."
   ]
  },
  {
   "cell_type": "code",
   "execution_count": 18,
   "metadata": {},
   "outputs": [
    {
     "name": "stdout",
     "output_type": "stream",
     "text": [
      "The number of values in the new JPD that are smaller than the old JPD is 4\n"
     ]
    }
   ],
   "source": [
    "small_count = np.sum(np.less(jpd,p2_aw))\n",
    "print('The number of values in the new JPD that are smaller than the old JPD is', small_count)"
   ]
  },
  {
   "cell_type": "markdown",
   "metadata": {},
   "source": [
    "### What to hand in\n",
    "Your version of this notebook named A1Q4.pdf, containing completed work above, and your name and student number at the top."
   ]
  },
  {
   "cell_type": "markdown",
   "metadata": {},
   "source": [
    "### Evaluation:\n",
    "* 10 marks:  Your answers show that you have basic mastery of Numpy.\n"
   ]
  }
 ],
 "metadata": {
  "kernelspec": {
   "display_name": "Python 3",
   "language": "python",
   "name": "python3"
  },
  "language_info": {
   "codemirror_mode": {
    "name": "ipython",
    "version": 3
   },
   "file_extension": ".py",
   "mimetype": "text/x-python",
   "name": "python",
   "nbconvert_exporter": "python",
   "pygments_lexer": "ipython3",
   "version": "3.7.4"
  }
 },
 "nbformat": 4,
 "nbformat_minor": 2
}
