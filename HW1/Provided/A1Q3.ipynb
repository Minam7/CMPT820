{
 "cells": [
  {
   "cell_type": "markdown",
   "metadata": {},
   "source": [
    "# CMPT 423/820 \n",
    "## Assignment 1 Question 3\n",
    "* Seyedeh Mina Mousavifar\n",
    "* 11279515\n",
    "* sem311"
   ]
  },
  {
   "cell_type": "markdown",
   "metadata": {},
   "source": [
    "In this question, we'll introduce Numpy, a very powerful and popular Python module for numerical computation.\n",
    "\n",
    "Numpy adds a very fast, very flexible data structure called NDArray to our tool-box.  A NDArray stores numerical data much more efficiently than Python lists, and its methods are optimized for array-level tasks.  The powerful thing about Numpy is that you can express array-level calculations with simple algebraic expressions, and usually without loops.  The Numpy module also provides very useful libraries for array-based and matric-based computations."
   ]
  },
  {
   "cell_type": "code",
   "execution_count": 1,
   "metadata": {},
   "outputs": [],
   "source": [
    "# almost always imported like this\n",
    "import numpy as np"
   ]
  },
  {
   "cell_type": "markdown",
   "metadata": {},
   "source": [
    "### Task 1 \n",
    "The Numpy module includes libraries for numerical calculations.  There are array-based calculations, and matrix-based calculations.  For example, the cell below defines a small $2\\times2$ array, and then does two kinds of multiplication."
   ]
  },
  {
   "cell_type": "code",
   "execution_count": 2,
   "metadata": {},
   "outputs": [
    {
     "name": "stdout",
     "output_type": "stream",
     "text": [
      "[[ 2  8]\n",
      " [18 32]]\n",
      "[[14 20]\n",
      " [30 44]]\n"
     ]
    }
   ],
   "source": [
    "# a small array\n",
    "twobytwo = np.array([[1, 2], [3, 4]])\n",
    "\n",
    "# array-based \n",
    "array_product = 2 * twobytwo * twobytwo\n",
    "\n",
    "# matrix-based\n",
    "matrix_product = 2 * np.matmul(twobytwo, twobytwo)\n",
    "\n",
    "# print them both\n",
    "print(array_product)\n",
    "print(matrix_product)"
   ]
  },
  {
   "cell_type": "markdown",
   "metadata": {},
   "source": [
    "#### Task 1 Questions\n",
    "1. (Easy) Explain the difference between the two products.\n",
    "> The array_product is the element-wise multiplication of twobytwo matrix, multiplied by two. However, the matrix_product is the matrix multiplication, multiplied by two.\n",
    "\n",
    "2. (Deeper) Python uses the multiplication operator `*` for normal Python numbers, but here we see it being used for NDArrays.  How does Python know which kind of multiplication to do?\n",
    "> Python uses duck typing, which means that instead of determining functions based on the object's type, it examines the presence of specific methods and properties rather than the type of the object itself. In case of absence, it will raise an error during runtime. Consequently, in this case, it calls * operator on NDArrays object, which does the elementwise multiplication."
   ]
  },
  {
   "cell_type": "markdown",
   "metadata": {},
   "source": [
    "### Task 2.  Scripts using NDArrays\n",
    "Here's a cure little result.  It turns out you can calculate Fibonacci numbers using matrix multiplication.  Suppose we want the Nth Fibonacci Number, $F_N$:\n",
    "\n",
    "$$ \n",
    "\\left(\n",
    "\\begin{array}{c}\n",
    "F_{N+1} \\\\\n",
    "F_N \\\\\n",
    "\\end{array}\\right) = \n",
    "\\left(\n",
    "\\begin{array}{cc}\n",
    "1 & 1 \\\\\n",
    "1 & 0 \\\\\n",
    "\\end{array}\\right)^N \n",
    "\\left(\n",
    "\\begin{array}{c}\n",
    "1 \\\\\n",
    "0 \\\\\n",
    "\\end{array}\\right)\n",
    "$$\n",
    "\n",
    "#### Task 2 Questions. \n",
    "1. Write a few lines of Python, using NDArrays, Numpy, and matrix multiplication to calculate $F_{30}$ (which we saw in Question 2).  There's a cell below for this script.  It's only a few lines of code!\n",
    "2. In Question 2, we could calculate $F_N$ for very large N, and it would be exact.  Explain what happens if we try to do the same thing here.  Answer by discussing what your script produces for large N, and then explain why it's wrong.\n",
    "> The difference between results is due to overflow in numpy-arrays because the operations in the pydata stack (NumPy/pandas) have C-style fixed-precision integers. In this situation, as we can see, the array is stored in the int64 format, which its max value is 9223372036854775807. So, the overflow occurs, and we couldn't obtain the previous result."
   ]
  },
  {
   "cell_type": "code",
   "execution_count": 3,
   "metadata": {},
   "outputs": [
    {
     "name": "stdout",
     "output_type": "stream",
     "text": [
      "The 30 th Fibonacci number is 832040\n"
     ]
    }
   ],
   "source": [
    "def fibonacci(number):\n",
    "    \"\"\"\n",
    "    :purpose: This function calculates nth Fibonacci number, which is Fn = Fn-1 + Fn-2 based on array multiplication\n",
    "    :param number: nth Fibonacci number to be calculated\n",
    "    :return: value of nth number in Fibonacci sequence\n",
    "    \"\"\"\n",
    "    nth_number = None\n",
    "    if number == 0:\n",
    "        return 0\n",
    "    elif number == 1:\n",
    "        return 1\n",
    "    else:\n",
    "        first_matrix = np.array([[1, 1], [1, 0]])\n",
    "        second_matrix = np.array([[1], [0]])\n",
    "        \n",
    "        # for saving nth power of first_matrix\n",
    "        power_matrix = np.array([[1, 1], [1, 0]])\n",
    "\n",
    "        # calculating first_matrix nth power\n",
    "        for j in range(number-1):\n",
    "            \n",
    "            power_matrix = np.matmul(power_matrix, first_matrix)\n",
    "        \n",
    "        # multiplicating given formula\n",
    "        nth_number = np.matmul(power_matrix, second_matrix)\n",
    "        \n",
    "        return nth_number\n",
    "\n",
    "N = 30\n",
    "f_N = fibonacci(N)\n",
    "\n",
    "print('The', N, 'th Fibonacci number is', str(f_N[1]).lstrip('[').rstrip(']'))"
   ]
  },
  {
   "cell_type": "code",
   "execution_count": 4,
   "metadata": {},
   "outputs": [
    {
     "name": "stdout",
     "output_type": "stream",
     "text": [
      "The 111 th Fibonacci number is 7515661444929089378\n",
      "The type of NDarray is: int64\n",
      "The difference between matrix calculation and loop calculation is: 70485009105644196724736\n"
     ]
    }
   ],
   "source": [
    "N = 111\n",
    "f_N = fibonacci(N)\n",
    "\n",
    "print('The', N, 'th Fibonacci number is', str(f_N[1]).lstrip('[').rstrip(']'))\n",
    "\n",
    "print('The type of NDarray is:', f_N.dtype)\n",
    "\n",
    "f_N = int(str(f_N[1]).lstrip('[').rstrip(']'))\n",
    "\n",
    "pre_f_N = 70492524767089125814114\n",
    "\n",
    "print('The difference between matrix calculation and loop calculation is:', pre_f_N - f_N)\n"
   ]
  },
  {
   "cell_type": "markdown",
   "metadata": {},
   "source": [
    "### What to hand in\n",
    "Your version of this notebook named A1Q3.pdf, containing completed work above, and your name and student number at the top."
   ]
  },
  {
   "cell_type": "markdown",
   "metadata": {},
   "source": [
    "### Evaluation:\n",
    "* 1 mark: Your answer two Task 1 Part 1 was correct.\n",
    "* 2 marks: Your answer two Task 1 Part 2 was correct.\n",
    "* 4 marks: Your code cell for Task 2 Part uses Python and Numpy to calculate the 30th Fibonacci number correctly.\n",
    "* 3 marks: Your explanation for the behaviour of this script for large $N$ is correct."
   ]
  }
 ],
 "metadata": {
  "kernelspec": {
   "display_name": "Python 3",
   "language": "python",
   "name": "python3"
  },
  "language_info": {
   "codemirror_mode": {
    "name": "ipython",
    "version": 3
   },
   "file_extension": ".py",
   "mimetype": "text/x-python",
   "name": "python",
   "nbconvert_exporter": "python",
   "pygments_lexer": "ipython3",
   "version": "3.6.6"
  }
 },
 "nbformat": 4,
 "nbformat_minor": 2
}
