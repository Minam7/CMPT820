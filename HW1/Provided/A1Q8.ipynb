{
 "cells": [
  {
   "cell_type": "markdown",
   "metadata": {},
   "source": [
    "# CMPT 423/820 \n",
    "## Assignment 1 Question 8\n",
    "* Seyedeh Mina Mousavifar\n",
    "* 11279515\n",
    "* sem311"
   ]
  },
  {
   "cell_type": "markdown",
   "metadata": {},
   "source": [
    "### Task\n",
    "Derive $P(y|\\mathbf{X_1},\\mathbf{X_2}) = \\frac{m_1+m_2+a}{N_1+N_2+a+b}$\n",
    "\n",
    "> $$\n",
    "P(y|\\mathbf{X_1},\\mathbf{X_2}) = E[\\mu|\\mathbf{X_1},\\mathbf{X_2}] = \\int_{\\mu}\\mu\\frac{P(\\mathbf{X_1},\\mathbf{X_2}|\\mu)P(\\mu)}{P(\\mathbf{X_1},\\mathbf{X_2})}d\\mu\n",
    "$$\n",
    "\n",
    "\n",
    "> Because yesterday and today are independent, we can use *Indepence* and *Conditional Indepence* formula.\n",
    "\n",
    "> *Independence*: $P(\\mathbf{X_1},\\mathbf{X_2}) = P(\\mathbf{X_1})P(\\mathbf{X_2})$\n",
    "\n",
    "> *Conditional Independence*: $P(\\mathbf{X_1},\\mathbf{X_2}|\\mu) = P(\\mathbf{X_1}|\\mu)P(\\mathbf{X_2}|\\mu)$\n",
    "\n",
    "\n",
    "<br>\n",
    "\n",
    "> $$\n",
    "\\Rightarrow\n",
    "P(y|\\mathbf{X_1},\\mathbf{X_2}) = \\int_{\\mu}\\mu\\frac{P(\\mathbf{X_1}|\\mu)P(\\mathbf{X_2}|\\mu)P(\\mu)}{P(\\mathbf{X_1})P(\\mathbf{X_2})}d\\mu\n",
    "$$\n",
    "\n",
    "\n",
    "> Considering $P(\\mathbf{X}|\\mu)=Bin(m|N,\\mu)={N\\choose m}\\mu^{m}(1-\\mu)^{N-m}$ for $\\mathbf{X_1}$ and $\\mathbf{X_2}$.\n",
    "\n",
    "\n",
    "<br>\n",
    "\n",
    "> $$\n",
    "\\Rightarrow\n",
    "P(y|\\mathbf{X_1},\\mathbf{X_2}) = \\int_{\\mu}\\mu\\frac{{N_1\\choose m_1}\\mu^{m_1}(1-\\mu)^{N_1-m_1}{N_2\\choose m_2}\\mu^{m_2}(1-\\mu)^{N_2-m_2})P(\\mu)}{P(\\mathbf{X_1})P(\\mathbf{X_2})}d\\mu\n",
    "$$\n",
    "\n",
    "\n",
    "<br>\n",
    "\n",
    "> $$\n",
    "\\Rightarrow\n",
    "P(y|\\mathbf{X_1},\\mathbf{X_2}) = \\int_{\\mu}\\mu\\frac{{N_1\\choose m_1}{N_2\\choose m_2}\\mu^{m_1+m_2}(1-\\mu)^{N_1-m_1+N_2-m_2}P(\\mu)}{P(\\mathbf{X_1})P(\\mathbf{X_2})}d\\mu\n",
    "= \\int_{\\mu}\\mu\\frac{{N_1\\choose m_1}{N_2\\choose m_2}\\mu^{(m_1+m_2)}(1-\\mu)^{(N_1+N_2)-(m_1+m_2)}P(\\mu)}{P(\\mathbf{X_1})P(\\mathbf{X_2})}d\\mu\n",
    "$$\n",
    "\n",
    "\n",
    "<br>\n",
    "\n",
    "\n",
    "> So, based on $P(y|\\mathbf{X})=\\int_{\\mu}\\mu\\frac{{N\\choose m}\\mu^{m}(1-\\mu)^{N-m}P(\\mu)}{P(\\mathbf{X_1})P(\\mathbf{X_2})}d\\mu=\\frac{m+a}{N+a+b}$ we can suppose that our integral in above will obtain the same result. Because ${N_1\\choose m_1}{N_2\\choose m_2}$ are constant and have no effect on the integral and substituting $m=m_1+m_2$ and $N=N_1+N_2$, we will have:\n",
    "\n",
    "\n",
    "<br>\n",
    "\n",
    "\n",
    "> $$\n",
    "\\Rightarrow\n",
    "P(y|\\mathbf{X_1},\\mathbf{X_2}) = \\frac{m_1+m_2+a}{N_1+N_2+a+b}\n",
    "$$\n",
    "\n"
   ]
  }
 ],
 "metadata": {
  "kernelspec": {
   "display_name": "Python 3",
   "language": "python",
   "name": "python3"
  },
  "language_info": {
   "codemirror_mode": {
    "name": "ipython",
    "version": 3
   },
   "file_extension": ".py",
   "mimetype": "text/x-python",
   "name": "python",
   "nbconvert_exporter": "python",
   "pygments_lexer": "ipython3",
   "version": "3.7.4"
  }
 },
 "nbformat": 4,
 "nbformat_minor": 2
}
