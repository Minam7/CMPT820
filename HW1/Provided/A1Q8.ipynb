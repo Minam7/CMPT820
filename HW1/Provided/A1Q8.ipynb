{
 "cells": [
  {
   "cell_type": "markdown",
   "metadata": {},
   "source": [
    "# CMPT 423/820 \n",
    "## Assignment 1 Question 8\n",
    "* Seyedeh Mina Mousavifar\n",
    "* 11279515\n",
    "* sem311"
   ]
  },
  {
   "cell_type": "markdown",
   "metadata": {},
   "source": [
    "### Task\n",
    "Derive $P(y|\\mathbf{X}_1,\\mathbf{X}_2) = \\frac{m_1+m_2+a}{N_1+N_2+a+b}$\n",
    "\n",
    "> $$\n",
    "P(y|\\mathbf{X}_1,\\mathbf{X}_2) = E[\\mu|\\mathbf{X}_1,\\mathbf{X}_2] = \\int_{\\mu}\\mu\\frac{P(\\mathbf{X}_1,\\mathbf{X}_2|\\mu)P(\\mu)}{P(\\mathbf{X}_1,\\mathbf{X}_2)}d\\mu\n",
    "$$\n",
    "\n",
    "\n",
    "> Because the joggler is same in both days, $\\mu$ is unchanged. Additionally, yesterday and today are independent, so we can use *Indepence* and *Conditional Indepence* formula.\n",
    "\n",
    "> *Independence*: $P(\\mathbf{X}_1,\\mathbf{X}_2) = P(\\mathbf{X}_1)P(\\mathbf{X}_2)$\n",
    "\n",
    "> *Conditional Independence*: $P(\\mathbf{X}_1,\\mathbf{X}_2|\\mu) = P(\\mathbf{X}_1|\\mu)P(\\mathbf{X}_2|\\mu)$\n",
    "\n",
    "\n",
    "<br>\n",
    "\n",
    "> $$\n",
    "\\Rightarrow\n",
    "P(y|\\mathbf{X}_1,\\mathbf{X}_2) = \\int_{\\mu}\\mu\\frac{P(\\mathbf{X}_1|\\mu)P(\\mathbf{X}_2|\\mu)P(\\mu)}{P(\\mathbf{X}_1)P(\\mathbf{X}_2)}d\\mu\n",
    "$$\n",
    "\n",
    "\n",
    "> Considering $P(\\mathbf{X}|\\mu)=Bin(m|N,\\mu)={N\\choose m}\\mu^{m}(1-\\mu)^{N-m}$ for $\\mathbf{X}_1$ and $\\mathbf{X}_2$.\n",
    "\n",
    "\n",
    "<br>\n",
    "\n",
    "> $$\n",
    "\\Rightarrow\n",
    "P(y|\\mathbf{X}_1,\\mathbf{X}_2) = \\int_{\\mu}\\mu\\frac{{N_1\\choose m_1}\\mu^{m_1}(1-\\mu)^{N_1-m_1}{N_2\\choose m_2}\\mu^{m_2}(1-\\mu)^{N_2-m_2}P(\\mu)}{P(\\mathbf{X}_1)P(\\mathbf{X}_2)}d\\mu\n",
    "$$\n",
    "\n",
    "\n",
    "<br>\n",
    "\n",
    "> $$\n",
    "\\Rightarrow\n",
    "P(y|\\mathbf{X}_1,\\mathbf{X}_2) = \\int_{\\mu}\\mu\\frac{{N_1\\choose m_1}{N_2\\choose m_2}\\mu^{m_1+m_2}(1-\\mu)^{N_1-m_1+N_2-m_2}P(\\mu)}{P(\\mathbf{X}_1)P(\\mathbf{X}_2)}d\\mu \\\\\n",
    "\\Rightarrow P(y|\\mathbf{X}_1,\\mathbf{X}_2) = \\int_{\\mu}\\mu\\frac{{N_1\\choose m_1}{N_2\\choose m_2}\\mu^{(m_1+m_2)}(1-\\mu)^{(N_1+N_2)-(m_1+m_2)}P(\\mu)}{P(\\mathbf{X}_1)P(\\mathbf{X}_2)}d\\mu\n",
    "$$\n",
    "\n",
    "\n",
    "<br>\n",
    "\n",
    "\n",
    "> So, based on $P(y|\\mathbf{X})=\\int_{\\mu}\\mu\\frac{{N\\choose m}\\mu^{m}(1-\\mu)^{N-m}P(\\mu)}{P(\\mathbf{X})}d\\mu=\\frac{m+a}{N+a+b}$:\n",
    "\n",
    "> We can suppose that our above integral will obtain the same result too. Because ${N_1\\choose m_1}{N_2\\choose m_2}$ are constant and have no effect on the integral, and we can substitute following variables $m_1+m_2=m$ and $N_1+N_2=N$. Consequently:\n",
    "\n",
    "\n",
    "<br>\n",
    "\n",
    "\n",
    "> $$\n",
    "\\Rightarrow\n",
    "P(y|\\mathbf{X}_1,\\mathbf{X}_2) = \\frac{m_1+m_2+a}{N_1+N_2+a+b}\n",
    "$$\n",
    "\n"
   ]
  }
 ],
 "metadata": {
  "kernelspec": {
   "display_name": "Python 3",
   "language": "python",
   "name": "python3"
  },
  "language_info": {
   "codemirror_mode": {
    "name": "ipython",
    "version": 3
   },
   "file_extension": ".py",
   "mimetype": "text/x-python",
   "name": "python",
   "nbconvert_exporter": "python",
   "pygments_lexer": "ipython3",
   "version": "3.7.4"
  }
 },
 "nbformat": 4,
 "nbformat_minor": 2
}
