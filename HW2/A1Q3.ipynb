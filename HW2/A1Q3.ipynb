{
 "cells": [
  {
   "cell_type": "markdown",
   "metadata": {},
   "source": [
    "# CMPT 423/820 \n",
    "## Assignment 2 Question 3\n",
    "* Seyedeh Mina Mousavifar\n",
    "* 11279515\n",
    "* sem311"
   ]
  },
  {
   "cell_type": "code",
   "execution_count": 1,
   "metadata": {},
   "outputs": [],
   "source": [
    "import pandas as pd\n",
    "\n",
    "# creating header for the dataset\n",
    "header = list()\n",
    "for i in range(14):\n",
    "    if i == 0:\n",
    "        header.append('label')\n",
    "        continue\n",
    "    string = 'feature' + str(i)\n",
    "    header.append(string)\n",
    "    \n",
    "\n",
    "# reading dataset and adding header\n",
    "data = pd.read_csv('data/a2q3.csv', \n",
    "                   header=None, \n",
    "                   names=header)"
   ]
  },
  {
   "cell_type": "markdown",
   "metadata": {},
   "source": [
    "### Part 1.\n",
    "\n",
    "K-Nearest Neighbours Classifier. Remember that you’ll have to choose K."
   ]
  },
  {
   "cell_type": "code",
   "execution_count": null,
   "metadata": {},
   "outputs": [],
   "source": []
  },
  {
   "cell_type": "markdown",
   "metadata": {},
   "source": [
    "### Part 2.\n",
    "\n",
    "Naive Bayes Classifier."
   ]
  },
  {
   "cell_type": "code",
   "execution_count": null,
   "metadata": {},
   "outputs": [],
   "source": [
    "from sklearn.naive_bayes import GaussianNB\n",
    "\n",
    "\n",
    "def nb_classifier(data_in, label_in):\n",
    "    \"\"\"\n",
    "    :purpose: This function creates an NB classifier and calculates \n",
    "    its accuracy on training set\n",
    "    :param data_in: training dataset\n",
    "    :param label_in: true answers for the dataset\n",
    "    :return: the accuracy of the model\n",
    "    \"\"\"\n",
    "    clf_nb = GaussianNB()\n",
    "    \n",
    "    # fitting the model to the data\n",
    "    clf_nb.fit(data_in, label_in) \n",
    "\n",
    "    # Predicting class labels from the features\n",
    "    predictions_nb = clf_nb.predict(data_in)\n",
    "    \n",
    "    return sum(predictions_nb == label_in)/len(predictions_nb)"
   ]
  },
  {
   "cell_type": "markdown",
   "metadata": {},
   "source": [
    "### Part 3.\n",
    "Decision Tree Classifier."
   ]
  },
  {
   "cell_type": "code",
   "execution_count": null,
   "metadata": {},
   "outputs": [],
   "source": []
  },
  {
   "cell_type": "markdown",
   "metadata": {},
   "source": [
    "Discuss the performance of the three classifiers. Which, if any, would you choose as the best model for\n",
    "the data?\n",
    "> c"
   ]
  }
 ],
 "metadata": {
  "kernelspec": {
   "display_name": "Python 3",
   "language": "python",
   "name": "python3"
  },
  "language_info": {
   "codemirror_mode": {
    "name": "ipython",
    "version": 3
   },
   "file_extension": ".py",
   "mimetype": "text/x-python",
   "name": "python",
   "nbconvert_exporter": "python",
   "pygments_lexer": "ipython3",
   "version": "3.6.6"
  }
 },
 "nbformat": 4,
 "nbformat_minor": 2
}
