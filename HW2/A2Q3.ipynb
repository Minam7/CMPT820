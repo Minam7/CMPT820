{
 "cells": [
  {
   "cell_type": "markdown",
   "metadata": {},
   "source": [
    "# CMPT 423/820 \n",
    "## Assignment 2 Question 3\n",
    "* Seyedeh Mina Mousavifar\n",
    "* 11279515\n",
    "* sem311"
   ]
  },
  {
   "cell_type": "code",
   "execution_count": 16,
   "metadata": {},
   "outputs": [],
   "source": [
    "import pandas as pd\n",
    "from sklearn.datasets import load_wine\n",
    "from sklearn.model_selection import train_test_split\n",
    "\n",
    "# add the correct header from wine dataset\n",
    "header = ['label'] + load_wine()['feature_names'] \n",
    "    \n",
    "\n",
    "# reading dataset and adding header\n",
    "wine = pd.read_csv('data/a2q3.csv', \n",
    "                   header=None, \n",
    "                   names=header)\n",
    "\n",
    "# separating labels\n",
    "labels = wine.values[:, 0]\n",
    "data = wine.values[:, 1:]\n",
    "\n",
    "# Set aside  data as a part of test set\n",
    "tpropn = 0.2\n",
    "X_train, X_test, Y_train, Y_test = train_test_split(data, labels, test_size=tpropn)\n",
    "\n",
    "\n",
    "K_FOLD = 10\n",
    "\n",
    "# creating answer\n",
    "models_info = {'KNN': None, \n",
    "              'NB': None, \n",
    "              'DT': None}"
   ]
  },
  {
   "cell_type": "markdown",
   "metadata": {},
   "source": [
    "### Part 1.\n",
    "\n",
    "K-Nearest Neighbours Classifier. Remember that you’ll have to choose K."
   ]
  },
  {
   "cell_type": "markdown",
   "metadata": {},
   "source": [
    "> I divided data into the training set and test set and then applied cross-validation on the training set to tune K hyperparameter. However, I realized that due to the small size of our data, the best K with the highest f1-score is highly relying on the division between test set and training set."
   ]
  },
  {
   "cell_type": "markdown",
   "metadata": {},
   "source": [
    "> We optimize K by choosing maximum f1-score for different ranges of K. Futher, we calculate f1-score for each K based on the average of 10-fold cross validation. An approach to select range of K is set $K = \\sqrt{n}$ based on this [article](https://saravananthirumuruganathan.wordpress.com/2010/05/17/a-detailed-introduction-to-k-nearest-neighbor-knn-algorithm/). "
   ]
  },
  {
   "cell_type": "markdown",
   "metadata": {},
   "source": [
    "#### Finding best K"
   ]
  },
  {
   "cell_type": "code",
   "execution_count": 17,
   "metadata": {},
   "outputs": [
    {
     "data": {
      "image/png": "[encoded data removed]",
      "text/plain": [
       "<Figure size 432x288 with 1 Axes>"
      ]
     },
     "metadata": {},
     "output_type": "display_data"
    },
    {
     "name": "stdout",
     "output_type": "stream",
     "text": [
      "Maximum F1 score is for k = 1 with score of 0.6981403781403783 .\n"
     ]
    }
   ],
   "source": [
    "from sklearn.neighbors import KNeighborsClassifier\n",
    "from sklearn.model_selection import cross_val_score\n",
    "import math\n",
    "import matplotlib.pyplot as plt\n",
    "\n",
    "\n",
    "def knn_classifier(k_in, data_in, label_in):\n",
    "    \"\"\"\n",
    "    :purpose: This function creates an KNN classifier and calculates \n",
    "    its training and test accuracy.\n",
    "    :param k_in: number of nearest neighbors\n",
    "    :param data_in: training dataset\n",
    "    :param label_in: true answers for the training dataset\n",
    "    :return: the f1-score of the model on training set\n",
    "    \"\"\"\n",
    "    \n",
    "     # creating the KNN classifier\n",
    "    clf_knn = KNeighborsClassifier(n_neighbors=k_in)\n",
    "    \n",
    "    # cross validation \n",
    "    train_result = cross_val_score(clf_knn, data_in, \n",
    "                                   label_in, cv=K_FOLD, \n",
    "                                   scoring='f1_macro')\n",
    "    \n",
    "    # return mean of f1 score\n",
    "    return train_result.mean()\n",
    "\n",
    "\n",
    "# saving accuracy for different K\n",
    "training_accuracy = list()\n",
    "\n",
    "# range of K for knn\n",
    "k_range = round(math.sqrt(X_train.shape[0]))\n",
    "neighbors_settings = range(1, k_range)\n",
    "\n",
    "for n_neighbors in neighbors_settings:\n",
    "    result = knn_classifier(n_neighbors, \n",
    "                           X_train, Y_train)\n",
    "    \n",
    "    training_accuracy.append(result)\n",
    "    \n",
    "\n",
    "# plotting result\n",
    "plt.plot(neighbors_settings, training_accuracy,\n",
    "         label='Accuracy of the Training Set')\n",
    "\n",
    "# highlighting maximum point\n",
    "max_point = max(training_accuracy)\n",
    "max_k = training_accuracy.index(max_point) + 1\n",
    "plt.plot(max_k, max_point, 'rD')\n",
    "plt.ylabel('F1 score')\n",
    "plt.xlabel('Number of Neighbors')\n",
    "plt.legend()\n",
    "plt.show()\n",
    "\n",
    "print('Maximum F1 score is for k =', max_k, 'with score of', max_point, '.')"
   ]
  },
  {
   "cell_type": "markdown",
   "metadata": {},
   "source": [
    "#### 1-Nearest Neighbours Classifier"
   ]
  },
  {
   "cell_type": "code",
   "execution_count": 37,
   "metadata": {},
   "outputs": [
    {
     "name": "stdout",
     "output_type": "stream",
     "text": [
      "\u001b[1mKNN classifier for K=1\u001b[0m\n",
      "F1-score        Accuracy       \n",
      "0.69842         0.69444        \n"
     ]
    }
   ],
   "source": [
    "from sklearn.metrics import accuracy_score\n",
    "from sklearn.metrics import f1_score\n",
    "\n",
    "def f1_acc_evaluator(model_in, data_in, label_in):\n",
    "    \"\"\"\n",
    "    :purpose: This function calculated given model\n",
    "    f1-score and accuracy, based on data\n",
    "    :param model_in: given model for evaluation\n",
    "    :param data_in: test dataset\n",
    "    :param label_in: true answers for the test set\n",
    "    :return f1_out: the f1-score of the model on test set\n",
    "    :return acc_out: the accuracy of the model on test set\n",
    "    \"\"\"\n",
    "    \n",
    "    y_predicted = model_in.predict(data_in)\n",
    "    \n",
    "    f1_out = f1_score(label_in,\n",
    "                      y_predicted,\n",
    "                      average='macro')\n",
    "    \n",
    "    acc_out = accuracy_score(label_in,\n",
    "                      y_predicted)\n",
    "    \n",
    "    return f1_out, acc_out\n",
    "\n",
    "# creating the KNN classifier\n",
    "model = KNeighborsClassifier(n_neighbors=max_k)\n",
    "model.fit(X_train, Y_train) \n",
    "\n",
    "# f1 score and accuracy\n",
    "result, acc = f1_acc_evaluator(model,\n",
    "                              X_test, Y_test)\n",
    "\n",
    "\n",
    "# saving answer\n",
    "models_info['KNN'] = {'f1': round(result, 5),\n",
    "                      'acc': round(acc, 5)}\n",
    "\n",
    "# printing result in tabular format\n",
    "print('\\033[1m' + 'KNN classifier for K=1' + '\\033[0m')\n",
    "print('{:<15} {:<15}'.format('F1-score',\n",
    "                            'Accuracy'))\n",
    "\n",
    "print('{:<15} {:<15}'.format(models_info['KNN']['f1'], \n",
    "                            models_info['KNN']['acc']))"
   ]
  },
  {
   "cell_type": "markdown",
   "metadata": {},
   "source": [
    "### Part 2.\n",
    "\n",
    "Naive Bayes Classifier."
   ]
  },
  {
   "cell_type": "code",
   "execution_count": 38,
   "metadata": {},
   "outputs": [
    {
     "name": "stdout",
     "output_type": "stream",
     "text": [
      "\u001b[1mNaive Bayes classifier\u001b[0m\n",
      "F1-score        Accuracy       \n",
      "0.97087         0.97222        \n"
     ]
    }
   ],
   "source": [
    "from sklearn.naive_bayes import GaussianNB\n",
    "\n",
    "# creating the NB classifier\n",
    "model = GaussianNB()\n",
    "model.fit(X_train, Y_train)\n",
    "\n",
    "# f1 score and accuracy\n",
    "result, acc = f1_acc_evaluator(clf_nb,\n",
    "                              X_test, Y_test)\n",
    "\n",
    "# saving answer\n",
    "models_info['NB'] = {'f1': round(result, 5),\n",
    "                      'acc': round(acc, 5)}\n",
    "\n",
    "# printing result in tabular format\n",
    "print('\\033[1m' + 'Naive Bayes classifier' + '\\033[0m')\n",
    "print('{:<15} {:<15}'.format('F1-score',\n",
    "                            'Accuracy'))\n",
    "\n",
    "print('{:<15} {:<15}'.format(models_info['NB']['f1'], \n",
    "                            models_info['NB']['acc']))"
   ]
  },
  {
   "cell_type": "markdown",
   "metadata": {},
   "source": [
    "### Part 3.\n",
    "Decision Tree Classifier."
   ]
  },
  {
   "cell_type": "markdown",
   "metadata": {},
   "source": [
    "> I divided data into the training set and test set and then applied cross-validation on the training set to tune depth hyperparameter. However, I realized that due to the small size of our data, the best depth with the highest f1-score is highly relying on the division between test set and training set. Moreover, the larger the depth will be, we will be more prone to overfitting our data."
   ]
  },
  {
   "cell_type": "markdown",
   "metadata": {},
   "source": [
    "> We should set max depth for the classifier to stop it from over fitting. In Scikit Learn [documentation](https://scikit-learn.org/stable/modules/tree.html#tree), it is recommended to start with 3 depth and increase it as needed. The maximum depth can be *N-1* which isn't rational computationally. However the default value is Best. In this model nodes are expanded until all leaves are pure. So we explore different values of depth and pick the one with maximum f1-score in cross validation."
   ]
  },
  {
   "cell_type": "markdown",
   "metadata": {},
   "source": [
    "#### Finding appropriate depth"
   ]
  },
  {
   "cell_type": "code",
   "execution_count": 40,
   "metadata": {},
   "outputs": [
    {
     "data": {
      "image/png": "[encoded data removed]",
      "text/plain": [
       "<Figure size 432x288 with 1 Axes>"
      ]
     },
     "metadata": {},
     "output_type": "display_data"
    },
    {
     "name": "stdout",
     "output_type": "stream",
     "text": [
      "Maximum F1 score is for k = 9 with score of 0.9587826987826986 .\n"
     ]
    }
   ],
   "source": [
    "from sklearn import tree\n",
    "\n",
    "def dt_classifier(d_in, data_in, label_in):\n",
    "    \"\"\"\n",
    "    :purpose: This function creates an Decision tree classifier\n",
    "    and calculates its training and test accuracy.\n",
    "    :param d_in: depth of tree\n",
    "    :param data_in: training dataset\n",
    "    :param label_in: true answers for the training dataset\n",
    "    :return: the accuracy of the model on training set\n",
    "    \"\"\"\n",
    "    \n",
    "     # creating the KNN classifier\n",
    "    clf_dt = tree.DecisionTreeClassifier(max_depth=d_in)\n",
    "    \n",
    "    # cross validation \n",
    "    train_result = cross_val_score(clf_dt, data_in, \n",
    "                                   label_in, cv=K_FOLD, \n",
    "                                   scoring='f1_macro')\n",
    "    \n",
    "    # return mean of f1 score\n",
    "    return train_result.mean()\n",
    "\n",
    "# saving accuracy for different K\n",
    "training_accuracy = list()\n",
    "\n",
    "# range of K for dt\n",
    "depths = range(1, len(data)-1)\n",
    "\n",
    "for d in depths:\n",
    "    result = dt_classifier(d, X_train, Y_train)\n",
    "    training_accuracy.append(result)\n",
    "    \n",
    "# plotting result\n",
    "plt.plot(depths, training_accuracy,\n",
    "         label='Accuracy of the Training Set')\n",
    "\n",
    "# highlighting maximum point\n",
    "max_point = max(training_accuracy)\n",
    "max_k = training_accuracy.index(max_point) + 1\n",
    "plt.plot(max_k, max_point, 'rD')\n",
    "plt.ylabel('F1 score')\n",
    "plt.xlabel('Depths of tree')\n",
    "plt.legend()\n",
    "plt.show()\n",
    "\n",
    "print('Maximum F1 score is for k =', max_k, 'with score of', max_point, '.')"
   ]
  },
  {
   "cell_type": "markdown",
   "metadata": {},
   "source": [
    "#### Decision Tree Classifier"
   ]
  },
  {
   "cell_type": "code",
   "execution_count": 41,
   "metadata": {},
   "outputs": [
    {
     "name": "stdout",
     "output_type": "stream",
     "text": [
      "\u001b[1mDecision Tree classifier\u001b[0m\n",
      "F1-score        Accuracy       \n",
      "0.86271         0.86111        \n"
     ]
    }
   ],
   "source": [
    "model = tree.DecisionTreeClassifier(max_depth=max_k)\n",
    "model.fit(X_train, Y_train)\n",
    "\n",
    "# f1 score and accuracy\n",
    "result, acc = f1_acc_evaluator(model,\n",
    "                              X_test, Y_test)\n",
    "\n",
    "\n",
    "# saving answer\n",
    "models_info['DT'] = {'f1': round(result, 5),\n",
    "                      'acc': round(acc, 5)}\n",
    "\n",
    "# printing result in tabular format\n",
    "print('\\033[1m' + 'Decision Tree classifier' + '\\033[0m')\n",
    "print('{:<15} {:<15}'.format('F1-score',\n",
    "                            'Accuracy'))\n",
    "\n",
    "print('{:<15} {:<15}'.format(models_info['DT']['f1'], \n",
    "                            models_info['DT']['acc']))"
   ]
  },
  {
   "cell_type": "markdown",
   "metadata": {},
   "source": [
    "### Comparison"
   ]
  },
  {
   "cell_type": "code",
   "execution_count": 43,
   "metadata": {},
   "outputs": [
    {
     "name": "stdout",
     "output_type": "stream",
     "text": [
      "\u001b[1mClassifiers Summary\u001b[0m\n",
      "Classifier           F1-score        Accuracy       \n",
      "K Nearest Neighbors  0.69842         0.69444        \n",
      "Naive Bayes          0.97087         0.97222        \n",
      "Decision Tree        0.86271         0.86111        \n"
     ]
    }
   ],
   "source": [
    "# printing result in tabular format\n",
    "print('\\033[1m' + 'Classifiers Summary' + '\\033[0m')\n",
    "print('{:<20} {:<15} {:<15}'.format('Classifier',\n",
    "                                    'F1-score',\n",
    "                                    'Accuracy'))\n",
    "\n",
    "print('{:<20} {:<15} {:<15}'.format('K Nearest Neighbors',\n",
    "                                    models_info['KNN']['f1'], \n",
    "                                    models_info['KNN']['acc']))\n",
    "\n",
    "print('{:<20} {:<15} {:<15}'.format('Naive Bayes',\n",
    "                                    models_info['NB']['f1'], \n",
    "                                    models_info['NB']['acc']))\n",
    "\n",
    "print('{:<20} {:<15} {:<15}'.format('Decision Tree',\n",
    "                                    models_info['DT']['f1'], \n",
    "                                    models_info['DT']['acc']))"
   ]
  },
  {
   "cell_type": "markdown",
   "metadata": {},
   "source": [
    "Discuss the performance of the three classifiers. Which, if any, would you choose as the best model for\n",
    "the data?\n",
    "> As we can see, *Naive Bayes* have the most f1-score, Accuracy, and the least standard deviation so it performs the best. After that, *Decision Tree* has the second best performance because of f1-score and Accuracy, and *K Nearest Neighbors* has the worst. So I would pick the *Naive Bayes* classifier.\n",
    "\n",
    "> In the following part, I'll assess different situation, in which each model would work better.\n",
    "> * *Naive Bayes* is a linear classifier while *K-NN* is not; It tends to be faster when applied to big data. In comparison, *K-NN* is usually slower for large amounts of data, because of the calculations required for each new step in the process. Moreover, this method is not affected by the curse of dimensionality and large feature sets, while *K-NN* has problems with both.\n",
    "> * Conditional independence will highly negative affect classification, so *K-NN* would be better than *Naive Bayes*. *Naive Bayes* can suffer from the zero probability problem; when a particular attribute's conditional probability equals zero, *Naive Bayes* will completely fail to produce a valid prediction. \n",
    "> * *K-NN* and *Naive Bayes* outperform *decision trees* when it comes to rare occurrences. *Decision tree* will almost certainty prune the rare but important classes, out of the model.\n",
    "> * *Decision trees* have easy to use features to identify the most significant dimensions, handle missing values, and deal with outliers. *Decision trees* work best for a small number of classes."
   ]
  },
  {
   "cell_type": "markdown",
   "metadata": {},
   "source": [
    "#### Checking Variability in data\n",
    "\n",
    "Accuracy is a good measure when the target variable classes in the data are nearly balanced. F1 Score might be a better measure to use if we need to seek a balance between Precision and Recall and there is an uneven class distribution (large number of Actual Negatives). So I will assess our data for the following characteristic."
   ]
  },
  {
   "cell_type": "code",
   "execution_count": 45,
   "metadata": {},
   "outputs": [
    {
     "data": {
      "text/html": [
       "<div>\n",
       "<style scoped>\n",
       "    .dataframe tbody tr th:only-of-type {\n",
       "        vertical-align: middle;\n",
       "    }\n",
       "\n",
       "    .dataframe tbody tr th {\n",
       "        vertical-align: top;\n",
       "    }\n",
       "\n",
       "    .dataframe thead th {\n",
       "        text-align: right;\n",
       "    }\n",
       "</style>\n",
       "<table border=\"1\" class=\"dataframe\">\n",
       "  <thead>\n",
       "    <tr style=\"text-align: right;\">\n",
       "      <th></th>\n",
       "      <th>label</th>\n",
       "      <th>count</th>\n",
       "      <th>percent</th>\n",
       "    </tr>\n",
       "  </thead>\n",
       "  <tbody>\n",
       "    <tr>\n",
       "      <th>0</th>\n",
       "      <td>1</td>\n",
       "      <td>59</td>\n",
       "      <td>33.15</td>\n",
       "    </tr>\n",
       "    <tr>\n",
       "      <th>1</th>\n",
       "      <td>2</td>\n",
       "      <td>71</td>\n",
       "      <td>39.89</td>\n",
       "    </tr>\n",
       "    <tr>\n",
       "      <th>2</th>\n",
       "      <td>3</td>\n",
       "      <td>48</td>\n",
       "      <td>26.97</td>\n",
       "    </tr>\n",
       "  </tbody>\n",
       "</table>\n",
       "</div>"
      ],
      "text/plain": [
       "   label  count  percent\n",
       "0      1     59    33.15\n",
       "1      2     71    39.89\n",
       "2      3     48    26.97"
      ]
     },
     "execution_count": 45,
     "metadata": {},
     "output_type": "execute_result"
    }
   ],
   "source": [
    "wine_info = wine.groupby(['label']).size().reset_index(name='count')\n",
    "\n",
    "total = wine_info['count'].sum()\n",
    "wine_info['percent'] = round(wine_info['count']*100/total, 2)\n",
    "wine_info"
   ]
  },
  {
   "cell_type": "markdown",
   "metadata": {},
   "source": [
    "So we can see that both f1-score and accuracy would measure performance appropriately."
   ]
  }
 ],
 "metadata": {
  "kernelspec": {
   "display_name": "Python 3",
   "language": "python",
   "name": "python3"
  },
  "language_info": {
   "codemirror_mode": {
    "name": "ipython",
    "version": 3
   },
   "file_extension": ".py",
   "mimetype": "text/x-python",
   "name": "python",
   "nbconvert_exporter": "python",
   "pygments_lexer": "ipython3",
   "version": "3.6.6"
  }
 },
 "nbformat": 4,
 "nbformat_minor": 2
}
